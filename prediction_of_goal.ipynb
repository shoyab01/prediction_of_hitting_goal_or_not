{
 "cells": [
  {
   "cell_type": "code",
   "execution_count": 1,
   "metadata": {},
   "outputs": [],
   "source": [
    "import numpy as np\n",
    "import pandas as pd\n",
    "import matplotlib.pyplot as plt\n",
    "import xgboost as xgb\n",
    "from sklearn.model_selection import RandomizedSearchCV\n",
    "from sklearn.model_selection import KFold\n",
    "import os"
   ]
  },
  {
   "cell_type": "code",
   "execution_count": 2,
   "metadata": {},
   "outputs": [],
   "source": [
    "os.chdir(\"C:\\\\Users\\\\shaik shoyab\\\\Desktop\\\\datasets\")"
   ]
  },
  {
   "cell_type": "code",
   "execution_count": 3,
   "metadata": {},
   "outputs": [],
   "source": [
    "dataset=pd.read_csv(\"train.csv\")"
   ]
  },
  {
   "cell_type": "code",
   "execution_count": 4,
   "metadata": {},
   "outputs": [
    {
     "data": {
      "text/html": [
       "<div>\n",
       "<style scoped>\n",
       "    .dataframe tbody tr th:only-of-type {\n",
       "        vertical-align: middle;\n",
       "    }\n",
       "\n",
       "    .dataframe tbody tr th {\n",
       "        vertical-align: top;\n",
       "    }\n",
       "\n",
       "    .dataframe thead th {\n",
       "        text-align: right;\n",
       "    }\n",
       "</style>\n",
       "<table border=\"1\" class=\"dataframe\">\n",
       "  <thead>\n",
       "    <tr style=\"text-align: right;\">\n",
       "      <th></th>\n",
       "      <th>match_event_id</th>\n",
       "      <th>location_x</th>\n",
       "      <th>location_y</th>\n",
       "      <th>remaining_min</th>\n",
       "      <th>power_of_shot</th>\n",
       "      <th>knockout_match</th>\n",
       "      <th>game_season</th>\n",
       "      <th>remaining_sec</th>\n",
       "      <th>distance_of_shot</th>\n",
       "      <th>is_goal</th>\n",
       "      <th>...</th>\n",
       "      <th>lat/lng</th>\n",
       "      <th>type_of_shot</th>\n",
       "      <th>type_of_combined_shot</th>\n",
       "      <th>match_id</th>\n",
       "      <th>team_id</th>\n",
       "      <th>remaining_min.1</th>\n",
       "      <th>power_of_shot.1</th>\n",
       "      <th>knockout_match.1</th>\n",
       "      <th>remaining_sec.1</th>\n",
       "      <th>distance_of_shot.1</th>\n",
       "    </tr>\n",
       "  </thead>\n",
       "  <tbody>\n",
       "    <tr>\n",
       "      <th>0</th>\n",
       "      <td>12.0</td>\n",
       "      <td>-157.0</td>\n",
       "      <td>0.0</td>\n",
       "      <td>10.0</td>\n",
       "      <td>1.0</td>\n",
       "      <td>0.0</td>\n",
       "      <td>2000-01</td>\n",
       "      <td>22.0</td>\n",
       "      <td>35.0</td>\n",
       "      <td>0.0</td>\n",
       "      <td>...</td>\n",
       "      <td>45.539131, -122.651648</td>\n",
       "      <td>shot - 45</td>\n",
       "      <td>NaN</td>\n",
       "      <td>20000012</td>\n",
       "      <td>1610612747</td>\n",
       "      <td>10.00</td>\n",
       "      <td>1.0</td>\n",
       "      <td>28.800</td>\n",
       "      <td>22.0000</td>\n",
       "      <td>35.0</td>\n",
       "    </tr>\n",
       "    <tr>\n",
       "      <th>1</th>\n",
       "      <td>35.0</td>\n",
       "      <td>-101.0</td>\n",
       "      <td>135.0</td>\n",
       "      <td>7.0</td>\n",
       "      <td>1.0</td>\n",
       "      <td>0.0</td>\n",
       "      <td>2000-01</td>\n",
       "      <td>45.0</td>\n",
       "      <td>36.0</td>\n",
       "      <td>1.0</td>\n",
       "      <td>...</td>\n",
       "      <td>45.539131, -122.651648</td>\n",
       "      <td>shot - 25</td>\n",
       "      <td>NaN</td>\n",
       "      <td>20000012</td>\n",
       "      <td>1610612747</td>\n",
       "      <td>92.64</td>\n",
       "      <td>1.0</td>\n",
       "      <td>0.000</td>\n",
       "      <td>63.7216</td>\n",
       "      <td>54.4</td>\n",
       "    </tr>\n",
       "    <tr>\n",
       "      <th>2</th>\n",
       "      <td>43.0</td>\n",
       "      <td>138.0</td>\n",
       "      <td>175.0</td>\n",
       "      <td>6.0</td>\n",
       "      <td>1.0</td>\n",
       "      <td>0.0</td>\n",
       "      <td>2000-01</td>\n",
       "      <td>52.0</td>\n",
       "      <td>42.0</td>\n",
       "      <td>0.0</td>\n",
       "      <td>...</td>\n",
       "      <td>45.539131, -122.651648</td>\n",
       "      <td>NaN</td>\n",
       "      <td>shot - 3</td>\n",
       "      <td>20000012</td>\n",
       "      <td>1610612747</td>\n",
       "      <td>NaN</td>\n",
       "      <td>1.0</td>\n",
       "      <td>122.608</td>\n",
       "      <td>52.0000</td>\n",
       "      <td>42.0</td>\n",
       "    </tr>\n",
       "    <tr>\n",
       "      <th>3</th>\n",
       "      <td>155.0</td>\n",
       "      <td>0.0</td>\n",
       "      <td>0.0</td>\n",
       "      <td>NaN</td>\n",
       "      <td>2.0</td>\n",
       "      <td>0.0</td>\n",
       "      <td>2000-01</td>\n",
       "      <td>19.0</td>\n",
       "      <td>20.0</td>\n",
       "      <td>1.0</td>\n",
       "      <td>...</td>\n",
       "      <td>45.539131, -122.651648</td>\n",
       "      <td>NaN</td>\n",
       "      <td>shot - 1</td>\n",
       "      <td>20000012</td>\n",
       "      <td>1610612747</td>\n",
       "      <td>42.64</td>\n",
       "      <td>2.0</td>\n",
       "      <td>0.000</td>\n",
       "      <td>19.0000</td>\n",
       "      <td>20.0</td>\n",
       "    </tr>\n",
       "    <tr>\n",
       "      <th>4</th>\n",
       "      <td>244.0</td>\n",
       "      <td>-145.0</td>\n",
       "      <td>-11.0</td>\n",
       "      <td>9.0</td>\n",
       "      <td>3.0</td>\n",
       "      <td>0.0</td>\n",
       "      <td>NaN</td>\n",
       "      <td>32.0</td>\n",
       "      <td>34.0</td>\n",
       "      <td>0.0</td>\n",
       "      <td>...</td>\n",
       "      <td>45.539131, -122.651648</td>\n",
       "      <td>shot - 17</td>\n",
       "      <td>NaN</td>\n",
       "      <td>20000012</td>\n",
       "      <td>1610612747</td>\n",
       "      <td>9.00</td>\n",
       "      <td>3.0</td>\n",
       "      <td>0.000</td>\n",
       "      <td>NaN</td>\n",
       "      <td>34.0</td>\n",
       "    </tr>\n",
       "  </tbody>\n",
       "</table>\n",
       "<p>5 rows × 27 columns</p>\n",
       "</div>"
      ],
      "text/plain": [
       "   match_event_id  location_x  location_y  remaining_min  power_of_shot  \\\n",
       "0            12.0      -157.0         0.0           10.0            1.0   \n",
       "1            35.0      -101.0       135.0            7.0            1.0   \n",
       "2            43.0       138.0       175.0            6.0            1.0   \n",
       "3           155.0         0.0         0.0            NaN            2.0   \n",
       "4           244.0      -145.0       -11.0            9.0            3.0   \n",
       "\n",
       "   knockout_match game_season  remaining_sec  distance_of_shot  is_goal  ...  \\\n",
       "0             0.0     2000-01           22.0              35.0      0.0  ...   \n",
       "1             0.0     2000-01           45.0              36.0      1.0  ...   \n",
       "2             0.0     2000-01           52.0              42.0      0.0  ...   \n",
       "3             0.0     2000-01           19.0              20.0      1.0  ...   \n",
       "4             0.0         NaN           32.0              34.0      0.0  ...   \n",
       "\n",
       "                  lat/lng type_of_shot type_of_combined_shot  match_id  \\\n",
       "0  45.539131, -122.651648    shot - 45                   NaN  20000012   \n",
       "1  45.539131, -122.651648    shot - 25                   NaN  20000012   \n",
       "2  45.539131, -122.651648          NaN              shot - 3  20000012   \n",
       "3  45.539131, -122.651648          NaN              shot - 1  20000012   \n",
       "4  45.539131, -122.651648    shot - 17                   NaN  20000012   \n",
       "\n",
       "      team_id remaining_min.1  power_of_shot.1 knockout_match.1  \\\n",
       "0  1610612747           10.00              1.0           28.800   \n",
       "1  1610612747           92.64              1.0            0.000   \n",
       "2  1610612747             NaN              1.0          122.608   \n",
       "3  1610612747           42.64              2.0            0.000   \n",
       "4  1610612747            9.00              3.0            0.000   \n",
       "\n",
       "  remaining_sec.1 distance_of_shot.1  \n",
       "0         22.0000               35.0  \n",
       "1         63.7216               54.4  \n",
       "2         52.0000               42.0  \n",
       "3         19.0000               20.0  \n",
       "4             NaN               34.0  \n",
       "\n",
       "[5 rows x 27 columns]"
      ]
     },
     "execution_count": 4,
     "metadata": {},
     "output_type": "execute_result"
    }
   ],
   "source": [
    "dataset.head()"
   ]
  },
  {
   "cell_type": "code",
   "execution_count": 5,
   "metadata": {},
   "outputs": [
    {
     "data": {
      "text/plain": [
       "match_event_id            979\n",
       "location_x                903\n",
       "location_y                991\n",
       "remaining_min            1000\n",
       "power_of_shot             931\n",
       "knockout_match            934\n",
       "game_season              3688\n",
       "remaining_sec            1012\n",
       "distance_of_shot         1019\n",
       "is_goal                     0\n",
       "area_of_shot              941\n",
       "shot_basics              1045\n",
       "range_of_shot            1010\n",
       "team_name                 964\n",
       "date_of_game              994\n",
       "home/away                 982\n",
       "shot_id_number              0\n",
       "lat/lng                   999\n",
       "type_of_shot             9758\n",
       "type_of_combined_shot    9846\n",
       "match_id                    0\n",
       "team_id                     0\n",
       "remaining_min.1           967\n",
       "power_of_shot.1           978\n",
       "knockout_match.1          966\n",
       "remaining_sec.1           968\n",
       "distance_of_shot.1       1013\n",
       "dtype: int64"
      ]
     },
     "execution_count": 5,
     "metadata": {},
     "output_type": "execute_result"
    }
   ],
   "source": [
    "dataset.isna().sum()"
   ]
  },
  {
   "cell_type": "code",
   "execution_count": 6,
   "metadata": {},
   "outputs": [],
   "source": [
    "dataset.drop([\"match_event_id\"],axis=1,inplace=True)"
   ]
  },
  {
   "cell_type": "code",
   "execution_count": 7,
   "metadata": {},
   "outputs": [],
   "source": [
    "dataset.drop([\"team_name\"],axis=1,inplace=True)"
   ]
  },
  {
   "cell_type": "code",
   "execution_count": 8,
   "metadata": {},
   "outputs": [],
   "source": [
    "dataset.drop([\"date_of_game\"],axis=1,inplace=True)"
   ]
  },
  {
   "cell_type": "code",
   "execution_count": 9,
   "metadata": {},
   "outputs": [],
   "source": [
    "dataset.drop([\"shot_id_number\"],axis=1,inplace=True)"
   ]
  },
  {
   "cell_type": "code",
   "execution_count": 10,
   "metadata": {},
   "outputs": [],
   "source": [
    "dataset.drop([\"match_id\"],axis=1,inplace=True)"
   ]
  },
  {
   "cell_type": "code",
   "execution_count": 11,
   "metadata": {},
   "outputs": [],
   "source": [
    "dataset.drop([\"team_id\"],axis=1,inplace=True)"
   ]
  },
  {
   "cell_type": "code",
   "execution_count": 12,
   "metadata": {},
   "outputs": [
    {
     "data": {
      "text/plain": [
       "location_x                903\n",
       "location_y                991\n",
       "remaining_min            1000\n",
       "power_of_shot             931\n",
       "knockout_match            934\n",
       "game_season              3688\n",
       "remaining_sec            1012\n",
       "distance_of_shot         1019\n",
       "is_goal                     0\n",
       "area_of_shot              941\n",
       "shot_basics              1045\n",
       "range_of_shot            1010\n",
       "home/away                 982\n",
       "lat/lng                   999\n",
       "type_of_shot             9758\n",
       "type_of_combined_shot    9846\n",
       "remaining_min.1           967\n",
       "power_of_shot.1           978\n",
       "knockout_match.1          966\n",
       "remaining_sec.1           968\n",
       "distance_of_shot.1       1013\n",
       "dtype: int64"
      ]
     },
     "execution_count": 12,
     "metadata": {},
     "output_type": "execute_result"
    }
   ],
   "source": [
    "dataset.isnull().sum()"
   ]
  },
  {
   "cell_type": "code",
   "execution_count": 13,
   "metadata": {},
   "outputs": [
    {
     "name": "stdout",
     "output_type": "stream",
     "text": [
      "248.0\n",
      "-250.0\n",
      "7.889791989733169\n",
      "12261.283308090418\n",
      "0    0.0\n",
      "dtype: float64\n"
     ]
    }
   ],
   "source": [
    "print(dataset[\"location_x\"].max())\n",
    "print(dataset[\"location_x\"].min())\n",
    "print(dataset[\"location_x\"].mean())\n",
    "print(dataset[\"location_x\"].var())\n",
    "print(dataset[\"location_x\"].mode())"
   ]
  },
  {
   "cell_type": "code",
   "execution_count": 14,
   "metadata": {},
   "outputs": [],
   "source": [
    "dataset[\"location_x\"]=dataset[\"location_x\"].fillna(0.0)"
   ]
  },
  {
   "cell_type": "code",
   "execution_count": 15,
   "metadata": {},
   "outputs": [
    {
     "name": "stdout",
     "output_type": "stream",
     "text": [
      "741.0\n",
      "-44.0\n",
      "91.31848707892334\n",
      "7657.160327132826\n",
      "0    0.0\n",
      "dtype: float64\n"
     ]
    }
   ],
   "source": [
    "print(dataset[\"location_y\"].max())\n",
    "print(dataset[\"location_y\"].min())\n",
    "print(dataset[\"location_y\"].mean())\n",
    "print(dataset[\"location_y\"].var())\n",
    "print(dataset[\"location_y\"].mode())"
   ]
  },
  {
   "cell_type": "code",
   "execution_count": 16,
   "metadata": {},
   "outputs": [],
   "source": [
    "dataset[\"location_y\"]=dataset[\"location_y\"].fillna(0.0)"
   ]
  },
  {
   "cell_type": "code",
   "execution_count": 17,
   "metadata": {},
   "outputs": [
    {
     "name": "stdout",
     "output_type": "stream",
     "text": [
      "11.0\n",
      "0.0\n",
      "4.864168995914857\n",
      "11.866675001487762\n",
      "0    0.0\n",
      "dtype: float64\n"
     ]
    }
   ],
   "source": [
    "print(dataset[\"remaining_min\"].max())\n",
    "print(dataset[\"remaining_min\"].min())\n",
    "print(dataset[\"remaining_min\"].mean())\n",
    "print(dataset[\"remaining_min\"].var())\n",
    "print(dataset[\"remaining_min\"].mode())"
   ]
  },
  {
   "cell_type": "code",
   "execution_count": 18,
   "metadata": {},
   "outputs": [],
   "source": [
    "temp=dataset[\"remaining_min\"].mean()\n",
    "dataset[\"remaining_min\"]=dataset[\"remaining_min\"].fillna(temp)"
   ]
  },
  {
   "cell_type": "code",
   "execution_count": 19,
   "metadata": {},
   "outputs": [
    {
     "name": "stdout",
     "output_type": "stream",
     "text": [
      "7.0\n",
      "1.0\n",
      "2.5203234616826435\n",
      "1.3310056365837317\n",
      "0    3.0\n",
      "dtype: float64\n"
     ]
    }
   ],
   "source": [
    "print(dataset[\"power_of_shot\"].max())\n",
    "print(dataset[\"power_of_shot\"].min())\n",
    "print(dataset[\"power_of_shot\"].mean())\n",
    "print(dataset[\"power_of_shot\"].var())\n",
    "print(dataset[\"power_of_shot\"].mode())"
   ]
  },
  {
   "cell_type": "code",
   "execution_count": 20,
   "metadata": {},
   "outputs": [],
   "source": [
    "temp=dataset[\"power_of_shot\"].mean()\n",
    "dataset[\"power_of_shot\"]=dataset[\"power_of_shot\"].fillna(temp)"
   ]
  },
  {
   "cell_type": "code",
   "execution_count": 21,
   "metadata": {},
   "outputs": [
    {
     "name": "stdout",
     "output_type": "stream",
     "text": [
      "0.0\n",
      "0.0\n",
      "0.0\n",
      "0.0\n",
      "0    0.0\n",
      "dtype: float64\n"
     ]
    }
   ],
   "source": [
    "print(dataset[\"knockout_match\"].max())\n",
    "print(dataset[\"knockout_match\"].min())\n",
    "print(dataset[\"knockout_match\"].mean())\n",
    "print(dataset[\"knockout_match\"].var())\n",
    "print(dataset[\"knockout_match\"].mode())"
   ]
  },
  {
   "cell_type": "code",
   "execution_count": 22,
   "metadata": {},
   "outputs": [],
   "source": [
    "dataset[\"knockout_match\"]=dataset[\"knockout_match\"].fillna(0.0)"
   ]
  },
  {
   "cell_type": "code",
   "execution_count": 23,
   "metadata": {},
   "outputs": [
    {
     "data": {
      "text/plain": [
       "0    2005-06\n",
       "dtype: object"
      ]
     },
     "execution_count": 23,
     "metadata": {},
     "output_type": "execute_result"
    }
   ],
   "source": [
    "dataset[\"game_season\"].mode()"
   ]
  },
  {
   "cell_type": "code",
   "execution_count": 24,
   "metadata": {},
   "outputs": [],
   "source": [
    "dataset[\"game_season\"]=dataset[\"game_season\"].fillna(\"2005-06\")"
   ]
  },
  {
   "cell_type": "code",
   "execution_count": 25,
   "metadata": {},
   "outputs": [
    {
     "name": "stdout",
     "output_type": "stream",
     "text": [
      "59.0\n",
      "0.0\n",
      "28.269685886402755\n",
      "305.78364773092227\n",
      "0    0.0\n",
      "dtype: float64\n"
     ]
    }
   ],
   "source": [
    "print(dataset[\"remaining_sec\"].max())\n",
    "print(dataset[\"remaining_sec\"].min())\n",
    "print(dataset[\"remaining_sec\"].mean())\n",
    "print(dataset[\"remaining_sec\"].var())\n",
    "print(dataset[\"remaining_sec\"].mode())"
   ]
  },
  {
   "cell_type": "code",
   "execution_count": 26,
   "metadata": {},
   "outputs": [],
   "source": [
    "dataset[\"remaining_sec\"]=dataset[\"remaining_sec\"].fillna(0.0)"
   ]
  },
  {
   "cell_type": "code",
   "execution_count": 27,
   "metadata": {},
   "outputs": [
    {
     "name": "stdout",
     "output_type": "stream",
     "text": [
      "94.0\n",
      "20.0\n",
      "33.50486951842884\n",
      "87.55821186550699\n",
      "0    20.0\n",
      "dtype: float64\n"
     ]
    }
   ],
   "source": [
    "print(dataset[\"distance_of_shot\"].max())\n",
    "print(dataset[\"distance_of_shot\"].min())\n",
    "print(dataset[\"distance_of_shot\"].mean())\n",
    "print(dataset[\"distance_of_shot\"].var())\n",
    "print(dataset[\"distance_of_shot\"].mode())"
   ]
  },
  {
   "cell_type": "code",
   "execution_count": 28,
   "metadata": {},
   "outputs": [],
   "source": [
    "dataset[\"distance_of_shot\"]=dataset[\"distance_of_shot\"].fillna(20.0)"
   ]
  },
  {
   "cell_type": "code",
   "execution_count": 29,
   "metadata": {},
   "outputs": [
    {
     "name": "stdout",
     "output_type": "stream",
     "text": [
      "0    Center(C)\n",
      "dtype: object\n"
     ]
    }
   ],
   "source": [
    "print(dataset[\"area_of_shot\"].mode())"
   ]
  },
  {
   "cell_type": "code",
   "execution_count": 30,
   "metadata": {},
   "outputs": [],
   "source": [
    "dataset[\"area_of_shot\"]=dataset[\"area_of_shot\"].fillna(\"Center(C)\")"
   ]
  },
  {
   "cell_type": "code",
   "execution_count": 31,
   "metadata": {},
   "outputs": [
    {
     "name": "stdout",
     "output_type": "stream",
     "text": [
      "0    Mid Range\n",
      "dtype: object\n"
     ]
    }
   ],
   "source": [
    "print(dataset[\"shot_basics\"].mode())"
   ]
  },
  {
   "cell_type": "code",
   "execution_count": 32,
   "metadata": {},
   "outputs": [],
   "source": [
    "dataset[\"shot_basics\"]=dataset[\"shot_basics\"].fillna(\"Mid Range\")"
   ]
  },
  {
   "cell_type": "code",
   "execution_count": 33,
   "metadata": {},
   "outputs": [
    {
     "name": "stdout",
     "output_type": "stream",
     "text": [
      "0    Less Than 8 ft.\n",
      "dtype: object\n"
     ]
    }
   ],
   "source": [
    "print(dataset[\"range_of_shot\"].mode())"
   ]
  },
  {
   "cell_type": "code",
   "execution_count": 34,
   "metadata": {},
   "outputs": [],
   "source": [
    "dataset[\"range_of_shot\"]=dataset[\"range_of_shot\"].fillna(\"Less Than 8 ft.\")"
   ]
  },
  {
   "cell_type": "code",
   "execution_count": 35,
   "metadata": {},
   "outputs": [
    {
     "name": "stdout",
     "output_type": "stream",
     "text": [
      "0    MANU @ SAC\n",
      "dtype: object\n"
     ]
    }
   ],
   "source": [
    "print(dataset[\"home/away\"].mode())"
   ]
  },
  {
   "cell_type": "code",
   "execution_count": 36,
   "metadata": {},
   "outputs": [],
   "source": [
    "dataset[\"home/away\"]=dataset[\"home/away\"].fillna(\"MANU @ SAC\")"
   ]
  },
  {
   "cell_type": "code",
   "execution_count": 37,
   "metadata": {},
   "outputs": [
    {
     "name": "stdout",
     "output_type": "stream",
     "text": [
      "0    42.982923, -71.446094\n",
      "dtype: object\n"
     ]
    }
   ],
   "source": [
    "print(dataset[\"lat/lng\"].mode())"
   ]
  },
  {
   "cell_type": "code",
   "execution_count": 38,
   "metadata": {},
   "outputs": [],
   "source": [
    "dataset[\"lat/lng\"]=dataset[\"lat/lng\"].fillna(\"42.982923, -71.446094\")"
   ]
  },
  {
   "cell_type": "code",
   "execution_count": 39,
   "metadata": {
    "scrolled": true
   },
   "outputs": [
    {
     "name": "stdout",
     "output_type": "stream",
     "text": [
      "0    shot - 39\n",
      "dtype: object\n"
     ]
    }
   ],
   "source": [
    "print(dataset[\"type_of_shot\"].mode())"
   ]
  },
  {
   "cell_type": "code",
   "execution_count": 40,
   "metadata": {},
   "outputs": [],
   "source": [
    "dataset[\"type_of_shot\"]=dataset[\"type_of_shot\"].fillna(\"shot - 39\")"
   ]
  },
  {
   "cell_type": "code",
   "execution_count": 41,
   "metadata": {},
   "outputs": [
    {
     "name": "stdout",
     "output_type": "stream",
     "text": [
      "0    shot - 3\n",
      "dtype: object\n"
     ]
    }
   ],
   "source": [
    "print(dataset[\"type_of_combined_shot\"].mode())"
   ]
  },
  {
   "cell_type": "code",
   "execution_count": 42,
   "metadata": {},
   "outputs": [],
   "source": [
    "dataset[\"type_of_combined_shot\"]=dataset[\"type_of_combined_shot\"].fillna(\"shot - 3\")"
   ]
  },
  {
   "cell_type": "code",
   "execution_count": 43,
   "metadata": {},
   "outputs": [
    {
     "name": "stdout",
     "output_type": "stream",
     "text": [
      "128.7616\n",
      "0.0\n",
      "18.025788528196596\n",
      "863.3297688239015\n",
      "0    0.0\n",
      "dtype: float64\n"
     ]
    }
   ],
   "source": [
    "print(dataset[\"remaining_min.1\"].max())\n",
    "print(dataset[\"remaining_min.1\"].min())\n",
    "print(dataset[\"remaining_min.1\"].mean())\n",
    "print(dataset[\"remaining_min.1\"].var())\n",
    "print(dataset[\"remaining_min.1\"].mode())"
   ]
  },
  {
   "cell_type": "code",
   "execution_count": 44,
   "metadata": {},
   "outputs": [],
   "source": [
    "dataset[\"remaining_min.1\"]=dataset[\"remaining_min.1\"].fillna(0.0)"
   ]
  },
  {
   "cell_type": "code",
   "execution_count": 45,
   "metadata": {},
   "outputs": [
    {
     "name": "stdout",
     "output_type": "stream",
     "text": [
      "118.36\n",
      "1.0\n",
      "15.986760442392356\n",
      "879.6450555234951\n",
      "0    3.0\n",
      "dtype: float64\n"
     ]
    }
   ],
   "source": [
    "print(dataset[\"power_of_shot.1\"].max())\n",
    "print(dataset[\"power_of_shot.1\"].min())\n",
    "print(dataset[\"power_of_shot.1\"].mean())\n",
    "print(dataset[\"power_of_shot.1\"].var())\n",
    "print(dataset[\"power_of_shot.1\"].mode())"
   ]
  },
  {
   "cell_type": "code",
   "execution_count": 46,
   "metadata": {},
   "outputs": [],
   "source": [
    "temp=dataset[\"power_of_shot.1\"].mode()\n",
    "dataset[\"power_of_shot.1\"]=dataset[\"power_of_shot.1\"].fillna(3.0)"
   ]
  },
  {
   "cell_type": "code",
   "execution_count": 47,
   "metadata": {},
   "outputs": [
    {
     "name": "stdout",
     "output_type": "stream",
     "text": [
      "141.35232000000005\n",
      "0.0\n",
      "16.33176505633652\n",
      "1230.512200975902\n",
      "0    0.0\n",
      "dtype: float64\n"
     ]
    }
   ],
   "source": [
    "print(dataset[\"knockout_match.1\"].max())\n",
    "print(dataset[\"knockout_match.1\"].min())\n",
    "print(dataset[\"knockout_match.1\"].mean())\n",
    "print(dataset[\"knockout_match.1\"].var())\n",
    "print(dataset[\"knockout_match.1\"].mode())"
   ]
  },
  {
   "cell_type": "code",
   "execution_count": 48,
   "metadata": {},
   "outputs": [],
   "source": [
    "tmp=dataset[\"knockout_match.1\"].mode()\n",
    "dataset[\"knockout_match.1\"]=dataset[\"knockout_match.1\"].fillna(0.0)"
   ]
  },
  {
   "cell_type": "code",
   "execution_count": 49,
   "metadata": {},
   "outputs": [
    {
     "name": "stdout",
     "output_type": "stream",
     "text": [
      "144.7856\n",
      "0.0\n",
      "38.79491513200257\n",
      "884.1592675255816\n",
      "0    0.0\n",
      "dtype: float64\n"
     ]
    }
   ],
   "source": [
    "print(dataset[\"remaining_sec.1\"].max())\n",
    "print(dataset[\"remaining_sec.1\"].min())\n",
    "print(dataset[\"remaining_sec.1\"].mean())\n",
    "print(dataset[\"remaining_sec.1\"].var())\n",
    "print(dataset[\"remaining_sec.1\"].mode())"
   ]
  },
  {
   "cell_type": "code",
   "execution_count": 50,
   "metadata": {},
   "outputs": [],
   "source": [
    "tmp=dataset[\"remaining_sec.1\"].mode()\n",
    "dataset[\"remaining_sec.1\"]=dataset[\"remaining_sec.1\"].fillna(0.0)"
   ]
  },
  {
   "cell_type": "code",
   "execution_count": 51,
   "metadata": {},
   "outputs": [
    {
     "name": "stdout",
     "output_type": "stream",
     "text": [
      "115.728\n",
      "9.4\n",
      "38.76825775913076\n",
      "346.8759147126853\n",
      "0    20.0\n",
      "dtype: float64\n"
     ]
    }
   ],
   "source": [
    "print(dataset[\"distance_of_shot.1\"].max())\n",
    "print(dataset[\"distance_of_shot.1\"].min())\n",
    "print(dataset[\"distance_of_shot.1\"].mean())\n",
    "print(dataset[\"distance_of_shot.1\"].var())\n",
    "print(dataset[\"distance_of_shot.1\"].mode())"
   ]
  },
  {
   "cell_type": "code",
   "execution_count": 52,
   "metadata": {},
   "outputs": [],
   "source": [
    "tp=dataset[\"distance_of_shot.1\"].mode()\n",
    "dataset[\"distance_of_shot.1\"]=dataset[\"distance_of_shot.1\"].fillna(20.0)"
   ]
  },
  {
   "cell_type": "code",
   "execution_count": 53,
   "metadata": {},
   "outputs": [
    {
     "data": {
      "text/html": [
       "<div>\n",
       "<style scoped>\n",
       "    .dataframe tbody tr th:only-of-type {\n",
       "        vertical-align: middle;\n",
       "    }\n",
       "\n",
       "    .dataframe tbody tr th {\n",
       "        vertical-align: top;\n",
       "    }\n",
       "\n",
       "    .dataframe thead th {\n",
       "        text-align: right;\n",
       "    }\n",
       "</style>\n",
       "<table border=\"1\" class=\"dataframe\">\n",
       "  <thead>\n",
       "    <tr style=\"text-align: right;\">\n",
       "      <th></th>\n",
       "      <th>location_x</th>\n",
       "      <th>location_y</th>\n",
       "      <th>remaining_min</th>\n",
       "      <th>power_of_shot</th>\n",
       "      <th>knockout_match</th>\n",
       "      <th>game_season</th>\n",
       "      <th>remaining_sec</th>\n",
       "      <th>distance_of_shot</th>\n",
       "      <th>is_goal</th>\n",
       "      <th>area_of_shot</th>\n",
       "      <th>...</th>\n",
       "      <th>range_of_shot</th>\n",
       "      <th>home/away</th>\n",
       "      <th>lat/lng</th>\n",
       "      <th>type_of_shot</th>\n",
       "      <th>type_of_combined_shot</th>\n",
       "      <th>remaining_min.1</th>\n",
       "      <th>power_of_shot.1</th>\n",
       "      <th>knockout_match.1</th>\n",
       "      <th>remaining_sec.1</th>\n",
       "      <th>distance_of_shot.1</th>\n",
       "    </tr>\n",
       "  </thead>\n",
       "  <tbody>\n",
       "    <tr>\n",
       "      <th>0</th>\n",
       "      <td>-157.0</td>\n",
       "      <td>0.0</td>\n",
       "      <td>10.000000</td>\n",
       "      <td>1.000000</td>\n",
       "      <td>0.0</td>\n",
       "      <td>2000-01</td>\n",
       "      <td>22.0</td>\n",
       "      <td>35.0</td>\n",
       "      <td>0.0</td>\n",
       "      <td>Left Side(L)</td>\n",
       "      <td>...</td>\n",
       "      <td>8-16 ft.</td>\n",
       "      <td>MANU @ POR</td>\n",
       "      <td>45.539131, -122.651648</td>\n",
       "      <td>shot - 45</td>\n",
       "      <td>shot - 3</td>\n",
       "      <td>10.0000</td>\n",
       "      <td>1.00</td>\n",
       "      <td>28.800</td>\n",
       "      <td>22.0000</td>\n",
       "      <td>35.0</td>\n",
       "    </tr>\n",
       "    <tr>\n",
       "      <th>1</th>\n",
       "      <td>-101.0</td>\n",
       "      <td>135.0</td>\n",
       "      <td>7.000000</td>\n",
       "      <td>1.000000</td>\n",
       "      <td>0.0</td>\n",
       "      <td>2000-01</td>\n",
       "      <td>45.0</td>\n",
       "      <td>36.0</td>\n",
       "      <td>1.0</td>\n",
       "      <td>Left Side Center(LC)</td>\n",
       "      <td>...</td>\n",
       "      <td>16-24 ft.</td>\n",
       "      <td>MANU @ SAC</td>\n",
       "      <td>45.539131, -122.651648</td>\n",
       "      <td>shot - 25</td>\n",
       "      <td>shot - 3</td>\n",
       "      <td>92.6400</td>\n",
       "      <td>1.00</td>\n",
       "      <td>0.000</td>\n",
       "      <td>63.7216</td>\n",
       "      <td>54.4</td>\n",
       "    </tr>\n",
       "    <tr>\n",
       "      <th>2</th>\n",
       "      <td>138.0</td>\n",
       "      <td>175.0</td>\n",
       "      <td>6.000000</td>\n",
       "      <td>1.000000</td>\n",
       "      <td>0.0</td>\n",
       "      <td>2000-01</td>\n",
       "      <td>52.0</td>\n",
       "      <td>42.0</td>\n",
       "      <td>0.0</td>\n",
       "      <td>Right Side Center(RC)</td>\n",
       "      <td>...</td>\n",
       "      <td>16-24 ft.</td>\n",
       "      <td>MANU @ POR</td>\n",
       "      <td>45.539131, -122.651648</td>\n",
       "      <td>shot - 39</td>\n",
       "      <td>shot - 3</td>\n",
       "      <td>0.0000</td>\n",
       "      <td>1.00</td>\n",
       "      <td>122.608</td>\n",
       "      <td>52.0000</td>\n",
       "      <td>42.0</td>\n",
       "    </tr>\n",
       "    <tr>\n",
       "      <th>3</th>\n",
       "      <td>0.0</td>\n",
       "      <td>0.0</td>\n",
       "      <td>4.864169</td>\n",
       "      <td>2.000000</td>\n",
       "      <td>0.0</td>\n",
       "      <td>2000-01</td>\n",
       "      <td>19.0</td>\n",
       "      <td>20.0</td>\n",
       "      <td>1.0</td>\n",
       "      <td>Center(C)</td>\n",
       "      <td>...</td>\n",
       "      <td>Less Than 8 ft.</td>\n",
       "      <td>MANU @ POR</td>\n",
       "      <td>45.539131, -122.651648</td>\n",
       "      <td>shot - 39</td>\n",
       "      <td>shot - 1</td>\n",
       "      <td>42.6400</td>\n",
       "      <td>2.00</td>\n",
       "      <td>0.000</td>\n",
       "      <td>19.0000</td>\n",
       "      <td>20.0</td>\n",
       "    </tr>\n",
       "    <tr>\n",
       "      <th>4</th>\n",
       "      <td>-145.0</td>\n",
       "      <td>-11.0</td>\n",
       "      <td>9.000000</td>\n",
       "      <td>3.000000</td>\n",
       "      <td>0.0</td>\n",
       "      <td>2005-06</td>\n",
       "      <td>32.0</td>\n",
       "      <td>34.0</td>\n",
       "      <td>0.0</td>\n",
       "      <td>Left Side(L)</td>\n",
       "      <td>...</td>\n",
       "      <td>8-16 ft.</td>\n",
       "      <td>MANU @ POR</td>\n",
       "      <td>45.539131, -122.651648</td>\n",
       "      <td>shot - 17</td>\n",
       "      <td>shot - 3</td>\n",
       "      <td>9.0000</td>\n",
       "      <td>3.00</td>\n",
       "      <td>0.000</td>\n",
       "      <td>0.0000</td>\n",
       "      <td>34.0</td>\n",
       "    </tr>\n",
       "    <tr>\n",
       "      <th>5</th>\n",
       "      <td>0.0</td>\n",
       "      <td>0.0</td>\n",
       "      <td>8.000000</td>\n",
       "      <td>2.520323</td>\n",
       "      <td>0.0</td>\n",
       "      <td>2000-01</td>\n",
       "      <td>52.0</td>\n",
       "      <td>20.0</td>\n",
       "      <td>1.0</td>\n",
       "      <td>Center(C)</td>\n",
       "      <td>...</td>\n",
       "      <td>Less Than 8 ft.</td>\n",
       "      <td>MANU @ POR</td>\n",
       "      <td>45.539131, -122.651648</td>\n",
       "      <td>shot - 39</td>\n",
       "      <td>shot - 4</td>\n",
       "      <td>8.0000</td>\n",
       "      <td>3.00</td>\n",
       "      <td>0.000</td>\n",
       "      <td>112.2000</td>\n",
       "      <td>89.4</td>\n",
       "    </tr>\n",
       "    <tr>\n",
       "      <th>6</th>\n",
       "      <td>-65.0</td>\n",
       "      <td>0.0</td>\n",
       "      <td>6.000000</td>\n",
       "      <td>3.000000</td>\n",
       "      <td>0.0</td>\n",
       "      <td>2000-01</td>\n",
       "      <td>12.0</td>\n",
       "      <td>32.0</td>\n",
       "      <td>1.0</td>\n",
       "      <td>Left Side(L)</td>\n",
       "      <td>...</td>\n",
       "      <td>8-16 ft.</td>\n",
       "      <td>MANU @ POR</td>\n",
       "      <td>45.539131, -122.651648</td>\n",
       "      <td>shot - 36</td>\n",
       "      <td>shot - 3</td>\n",
       "      <td>6.0000</td>\n",
       "      <td>3.00</td>\n",
       "      <td>0.000</td>\n",
       "      <td>12.0000</td>\n",
       "      <td>32.0</td>\n",
       "    </tr>\n",
       "    <tr>\n",
       "      <th>7</th>\n",
       "      <td>-33.0</td>\n",
       "      <td>0.0</td>\n",
       "      <td>3.000000</td>\n",
       "      <td>3.000000</td>\n",
       "      <td>0.0</td>\n",
       "      <td>2000-01</td>\n",
       "      <td>36.0</td>\n",
       "      <td>32.0</td>\n",
       "      <td>0.0</td>\n",
       "      <td>Center(C)</td>\n",
       "      <td>...</td>\n",
       "      <td>8-16 ft.</td>\n",
       "      <td>MANU @ POR</td>\n",
       "      <td>45.539131, -122.651648</td>\n",
       "      <td>shot - 44</td>\n",
       "      <td>shot - 3</td>\n",
       "      <td>3.0000</td>\n",
       "      <td>3.00</td>\n",
       "      <td>0.000</td>\n",
       "      <td>52.2000</td>\n",
       "      <td>20.0</td>\n",
       "    </tr>\n",
       "    <tr>\n",
       "      <th>8</th>\n",
       "      <td>121.0</td>\n",
       "      <td>127.0</td>\n",
       "      <td>11.000000</td>\n",
       "      <td>1.000000</td>\n",
       "      <td>0.0</td>\n",
       "      <td>2000-01</td>\n",
       "      <td>0.0</td>\n",
       "      <td>37.0</td>\n",
       "      <td>1.0</td>\n",
       "      <td>Right Side Center(RC)</td>\n",
       "      <td>...</td>\n",
       "      <td>16-24 ft.</td>\n",
       "      <td>MANU vs. UTA</td>\n",
       "      <td>42.982923, -71.446094</td>\n",
       "      <td>shot - 39</td>\n",
       "      <td>shot - 3</td>\n",
       "      <td>11.0000</td>\n",
       "      <td>1.00</td>\n",
       "      <td>106.608</td>\n",
       "      <td>64.7856</td>\n",
       "      <td>16.4</td>\n",
       "    </tr>\n",
       "    <tr>\n",
       "      <th>9</th>\n",
       "      <td>-67.0</td>\n",
       "      <td>0.0</td>\n",
       "      <td>7.000000</td>\n",
       "      <td>1.000000</td>\n",
       "      <td>0.0</td>\n",
       "      <td>2005-06</td>\n",
       "      <td>0.0</td>\n",
       "      <td>20.0</td>\n",
       "      <td>1.0</td>\n",
       "      <td>Left Side(L)</td>\n",
       "      <td>...</td>\n",
       "      <td>8-16 ft.</td>\n",
       "      <td>MANU vs. UTA</td>\n",
       "      <td>42.982923, -71.446094</td>\n",
       "      <td>shot - 44</td>\n",
       "      <td>shot - 3</td>\n",
       "      <td>7.0000</td>\n",
       "      <td>77.36</td>\n",
       "      <td>0.000</td>\n",
       "      <td>9.0000</td>\n",
       "      <td>32.0</td>\n",
       "    </tr>\n",
       "    <tr>\n",
       "      <th>10</th>\n",
       "      <td>-94.0</td>\n",
       "      <td>4.0</td>\n",
       "      <td>4.864169</td>\n",
       "      <td>1.000000</td>\n",
       "      <td>0.0</td>\n",
       "      <td>2000-01</td>\n",
       "      <td>44.0</td>\n",
       "      <td>29.0</td>\n",
       "      <td>0.0</td>\n",
       "      <td>Left Side(L)</td>\n",
       "      <td>...</td>\n",
       "      <td>8-16 ft.</td>\n",
       "      <td>MANU vs. UTA</td>\n",
       "      <td>42.982923, -71.446094</td>\n",
       "      <td>shot - 39</td>\n",
       "      <td>shot - 3</td>\n",
       "      <td>2.0000</td>\n",
       "      <td>68.36</td>\n",
       "      <td>0.000</td>\n",
       "      <td>44.0000</td>\n",
       "      <td>29.0</td>\n",
       "    </tr>\n",
       "    <tr>\n",
       "      <th>11</th>\n",
       "      <td>-23.0</td>\n",
       "      <td>47.0</td>\n",
       "      <td>1.000000</td>\n",
       "      <td>1.000000</td>\n",
       "      <td>0.0</td>\n",
       "      <td>2000-01</td>\n",
       "      <td>16.0</td>\n",
       "      <td>25.0</td>\n",
       "      <td>0.0</td>\n",
       "      <td>Center(C)</td>\n",
       "      <td>...</td>\n",
       "      <td>Less Than 8 ft.</td>\n",
       "      <td>MANU vs. UTA</td>\n",
       "      <td>42.982923, -71.446094</td>\n",
       "      <td>shot - 12</td>\n",
       "      <td>shot - 3</td>\n",
       "      <td>1.0000</td>\n",
       "      <td>1.00</td>\n",
       "      <td>0.000</td>\n",
       "      <td>16.0000</td>\n",
       "      <td>25.0</td>\n",
       "    </tr>\n",
       "    <tr>\n",
       "      <th>12</th>\n",
       "      <td>0.0</td>\n",
       "      <td>192.0</td>\n",
       "      <td>0.000000</td>\n",
       "      <td>1.000000</td>\n",
       "      <td>0.0</td>\n",
       "      <td>2000-01</td>\n",
       "      <td>0.0</td>\n",
       "      <td>40.0</td>\n",
       "      <td>0.0</td>\n",
       "      <td>Center(C)</td>\n",
       "      <td>...</td>\n",
       "      <td>16-24 ft.</td>\n",
       "      <td>MANU vs. UTA</td>\n",
       "      <td>42.982923, -71.446094</td>\n",
       "      <td>shot - 39</td>\n",
       "      <td>shot - 3</td>\n",
       "      <td>94.6400</td>\n",
       "      <td>70.36</td>\n",
       "      <td>0.000</td>\n",
       "      <td>70.7856</td>\n",
       "      <td>40.0</td>\n",
       "    </tr>\n",
       "    <tr>\n",
       "      <th>13</th>\n",
       "      <td>-117.0</td>\n",
       "      <td>226.0</td>\n",
       "      <td>8.000000</td>\n",
       "      <td>2.000000</td>\n",
       "      <td>0.0</td>\n",
       "      <td>2000-01</td>\n",
       "      <td>50.0</td>\n",
       "      <td>45.0</td>\n",
       "      <td>1.0</td>\n",
       "      <td>Left Side Center(LC)</td>\n",
       "      <td>...</td>\n",
       "      <td>Less Than 8 ft.</td>\n",
       "      <td>MANU vs. UTA</td>\n",
       "      <td>42.982923, -71.446094</td>\n",
       "      <td>shot - 6</td>\n",
       "      <td>shot - 3</td>\n",
       "      <td>38.6400</td>\n",
       "      <td>2.00</td>\n",
       "      <td>0.000</td>\n",
       "      <td>50.0000</td>\n",
       "      <td>20.0</td>\n",
       "    </tr>\n",
       "    <tr>\n",
       "      <th>14</th>\n",
       "      <td>0.0</td>\n",
       "      <td>97.0</td>\n",
       "      <td>11.000000</td>\n",
       "      <td>3.000000</td>\n",
       "      <td>0.0</td>\n",
       "      <td>2000-01</td>\n",
       "      <td>29.0</td>\n",
       "      <td>36.0</td>\n",
       "      <td>0.0</td>\n",
       "      <td>Left Side Center(LC)</td>\n",
       "      <td>...</td>\n",
       "      <td>16-24 ft.</td>\n",
       "      <td>MANU vs. UTA</td>\n",
       "      <td>42.982923, -71.446094</td>\n",
       "      <td>shot - 39</td>\n",
       "      <td>shot - 3</td>\n",
       "      <td>11.0000</td>\n",
       "      <td>3.00</td>\n",
       "      <td>0.000</td>\n",
       "      <td>29.0000</td>\n",
       "      <td>106.4</td>\n",
       "    </tr>\n",
       "    <tr>\n",
       "      <th>15</th>\n",
       "      <td>3.0</td>\n",
       "      <td>144.0</td>\n",
       "      <td>10.000000</td>\n",
       "      <td>3.000000</td>\n",
       "      <td>0.0</td>\n",
       "      <td>2000-01</td>\n",
       "      <td>8.0</td>\n",
       "      <td>34.0</td>\n",
       "      <td>0.0</td>\n",
       "      <td>Center(C)</td>\n",
       "      <td>...</td>\n",
       "      <td>8-16 ft.</td>\n",
       "      <td>MANU vs. UTA</td>\n",
       "      <td>42.982923, -71.446094</td>\n",
       "      <td>shot - 20</td>\n",
       "      <td>shot - 3</td>\n",
       "      <td>10.0000</td>\n",
       "      <td>3.00</td>\n",
       "      <td>0.000</td>\n",
       "      <td>8.0000</td>\n",
       "      <td>34.0</td>\n",
       "    </tr>\n",
       "    <tr>\n",
       "      <th>16</th>\n",
       "      <td>-16.0</td>\n",
       "      <td>110.0</td>\n",
       "      <td>7.000000</td>\n",
       "      <td>3.000000</td>\n",
       "      <td>0.0</td>\n",
       "      <td>2000-01</td>\n",
       "      <td>57.0</td>\n",
       "      <td>31.0</td>\n",
       "      <td>1.0</td>\n",
       "      <td>Center(C)</td>\n",
       "      <td>...</td>\n",
       "      <td>8-16 ft.</td>\n",
       "      <td>MANU vs. UTA</td>\n",
       "      <td>42.982923, -71.446094</td>\n",
       "      <td>shot - 44</td>\n",
       "      <td>shot - 3</td>\n",
       "      <td>7.0000</td>\n",
       "      <td>3.00</td>\n",
       "      <td>0.000</td>\n",
       "      <td>57.0000</td>\n",
       "      <td>31.0</td>\n",
       "    </tr>\n",
       "    <tr>\n",
       "      <th>17</th>\n",
       "      <td>-109.0</td>\n",
       "      <td>150.0</td>\n",
       "      <td>5.000000</td>\n",
       "      <td>3.000000</td>\n",
       "      <td>0.0</td>\n",
       "      <td>2005-06</td>\n",
       "      <td>47.0</td>\n",
       "      <td>38.0</td>\n",
       "      <td>1.0</td>\n",
       "      <td>Left Side Center(LC)</td>\n",
       "      <td>...</td>\n",
       "      <td>16-24 ft.</td>\n",
       "      <td>MANU vs. UTA</td>\n",
       "      <td>42.982923, -71.446094</td>\n",
       "      <td>shot - 39</td>\n",
       "      <td>shot - 3</td>\n",
       "      <td>5.0000</td>\n",
       "      <td>3.00</td>\n",
       "      <td>0.000</td>\n",
       "      <td>47.0000</td>\n",
       "      <td>38.0</td>\n",
       "    </tr>\n",
       "    <tr>\n",
       "      <th>18</th>\n",
       "      <td>-46.0</td>\n",
       "      <td>63.0</td>\n",
       "      <td>5.000000</td>\n",
       "      <td>3.000000</td>\n",
       "      <td>0.0</td>\n",
       "      <td>2000-01</td>\n",
       "      <td>11.0</td>\n",
       "      <td>27.0</td>\n",
       "      <td>1.0</td>\n",
       "      <td>Center(C)</td>\n",
       "      <td>...</td>\n",
       "      <td>Less Than 8 ft.</td>\n",
       "      <td>MANU vs. UTA</td>\n",
       "      <td>42.982923, -71.446094</td>\n",
       "      <td>shot - 39</td>\n",
       "      <td>shot - 3</td>\n",
       "      <td>5.0000</td>\n",
       "      <td>3.00</td>\n",
       "      <td>0.000</td>\n",
       "      <td>25.2000</td>\n",
       "      <td>27.0</td>\n",
       "    </tr>\n",
       "    <tr>\n",
       "      <th>19</th>\n",
       "      <td>0.0</td>\n",
       "      <td>0.0</td>\n",
       "      <td>2.000000</td>\n",
       "      <td>3.000000</td>\n",
       "      <td>0.0</td>\n",
       "      <td>2000-01</td>\n",
       "      <td>36.0</td>\n",
       "      <td>20.0</td>\n",
       "      <td>0.0</td>\n",
       "      <td>Center(C)</td>\n",
       "      <td>...</td>\n",
       "      <td>Less Than 8 ft.</td>\n",
       "      <td>MANU vs. UTA</td>\n",
       "      <td>42.982923, -71.446094</td>\n",
       "      <td>shot - 39</td>\n",
       "      <td>shot - 4</td>\n",
       "      <td>93.6400</td>\n",
       "      <td>3.00</td>\n",
       "      <td>0.000</td>\n",
       "      <td>36.0000</td>\n",
       "      <td>20.0</td>\n",
       "    </tr>\n",
       "    <tr>\n",
       "      <th>20</th>\n",
       "      <td>0.0</td>\n",
       "      <td>196.0</td>\n",
       "      <td>2.000000</td>\n",
       "      <td>3.000000</td>\n",
       "      <td>0.0</td>\n",
       "      <td>2000-01</td>\n",
       "      <td>4.0</td>\n",
       "      <td>40.0</td>\n",
       "      <td>0.0</td>\n",
       "      <td>Center(C)</td>\n",
       "      <td>...</td>\n",
       "      <td>16-24 ft.</td>\n",
       "      <td>MANU vs. UTA</td>\n",
       "      <td>42.982923, -71.446094</td>\n",
       "      <td>shot - 30</td>\n",
       "      <td>shot - 3</td>\n",
       "      <td>2.0000</td>\n",
       "      <td>83.36</td>\n",
       "      <td>0.000</td>\n",
       "      <td>63.7856</td>\n",
       "      <td>40.0</td>\n",
       "    </tr>\n",
       "    <tr>\n",
       "      <th>21</th>\n",
       "      <td>-183.0</td>\n",
       "      <td>186.0</td>\n",
       "      <td>0.000000</td>\n",
       "      <td>3.000000</td>\n",
       "      <td>0.0</td>\n",
       "      <td>2000-01</td>\n",
       "      <td>30.0</td>\n",
       "      <td>46.0</td>\n",
       "      <td>0.0</td>\n",
       "      <td>Left Side Center(LC)</td>\n",
       "      <td>...</td>\n",
       "      <td>24+ ft.</td>\n",
       "      <td>MANU vs. UTA</td>\n",
       "      <td>42.982923, -71.446094</td>\n",
       "      <td>shot - 54</td>\n",
       "      <td>shot - 3</td>\n",
       "      <td>0.0000</td>\n",
       "      <td>3.00</td>\n",
       "      <td>0.000</td>\n",
       "      <td>30.0000</td>\n",
       "      <td>53.4</td>\n",
       "    </tr>\n",
       "    <tr>\n",
       "      <th>22</th>\n",
       "      <td>85.0</td>\n",
       "      <td>173.0</td>\n",
       "      <td>8.000000</td>\n",
       "      <td>4.000000</td>\n",
       "      <td>0.0</td>\n",
       "      <td>2000-01</td>\n",
       "      <td>0.0</td>\n",
       "      <td>39.0</td>\n",
       "      <td>0.0</td>\n",
       "      <td>Right Side Center(RC)</td>\n",
       "      <td>...</td>\n",
       "      <td>16-24 ft.</td>\n",
       "      <td>MANU vs. UTA</td>\n",
       "      <td>42.982923, -71.446094</td>\n",
       "      <td>shot - 39</td>\n",
       "      <td>shot - 3</td>\n",
       "      <td>8.0000</td>\n",
       "      <td>4.00</td>\n",
       "      <td>61.928</td>\n",
       "      <td>19.0000</td>\n",
       "      <td>18.4</td>\n",
       "    </tr>\n",
       "    <tr>\n",
       "      <th>23</th>\n",
       "      <td>3.0</td>\n",
       "      <td>87.0</td>\n",
       "      <td>6.000000</td>\n",
       "      <td>4.000000</td>\n",
       "      <td>0.0</td>\n",
       "      <td>2000-01</td>\n",
       "      <td>22.0</td>\n",
       "      <td>28.0</td>\n",
       "      <td>0.0</td>\n",
       "      <td>Center(C)</td>\n",
       "      <td>...</td>\n",
       "      <td>8-16 ft.</td>\n",
       "      <td>MANU vs. UTA</td>\n",
       "      <td>42.982923, -71.446094</td>\n",
       "      <td>shot - 42</td>\n",
       "      <td>shot - 3</td>\n",
       "      <td>73.6400</td>\n",
       "      <td>4.00</td>\n",
       "      <td>0.000</td>\n",
       "      <td>22.0000</td>\n",
       "      <td>28.0</td>\n",
       "    </tr>\n",
       "    <tr>\n",
       "      <th>24</th>\n",
       "      <td>121.0</td>\n",
       "      <td>4.0</td>\n",
       "      <td>1.000000</td>\n",
       "      <td>4.000000</td>\n",
       "      <td>0.0</td>\n",
       "      <td>2000-01</td>\n",
       "      <td>20.0</td>\n",
       "      <td>20.0</td>\n",
       "      <td>1.0</td>\n",
       "      <td>Right Side(R)</td>\n",
       "      <td>...</td>\n",
       "      <td>8-16 ft.</td>\n",
       "      <td>MANU vs. UTA</td>\n",
       "      <td>42.982923, -71.446094</td>\n",
       "      <td>shot - 44</td>\n",
       "      <td>shot - 3</td>\n",
       "      <td>1.0000</td>\n",
       "      <td>4.00</td>\n",
       "      <td>0.000</td>\n",
       "      <td>66.2000</td>\n",
       "      <td>32.0</td>\n",
       "    </tr>\n",
       "    <tr>\n",
       "      <th>25</th>\n",
       "      <td>127.0</td>\n",
       "      <td>34.0</td>\n",
       "      <td>0.000000</td>\n",
       "      <td>4.000000</td>\n",
       "      <td>0.0</td>\n",
       "      <td>2005-06</td>\n",
       "      <td>30.0</td>\n",
       "      <td>33.0</td>\n",
       "      <td>0.0</td>\n",
       "      <td>Right Side(R)</td>\n",
       "      <td>...</td>\n",
       "      <td>8-16 ft.</td>\n",
       "      <td>MANU vs. UTA</td>\n",
       "      <td>42.982923, -71.446094</td>\n",
       "      <td>shot - 39</td>\n",
       "      <td>shot - 3</td>\n",
       "      <td>0.0000</td>\n",
       "      <td>4.00</td>\n",
       "      <td>0.000</td>\n",
       "      <td>30.0000</td>\n",
       "      <td>38.4</td>\n",
       "    </tr>\n",
       "    <tr>\n",
       "      <th>26</th>\n",
       "      <td>91.0</td>\n",
       "      <td>184.0</td>\n",
       "      <td>3.000000</td>\n",
       "      <td>2.000000</td>\n",
       "      <td>0.0</td>\n",
       "      <td>2000-01</td>\n",
       "      <td>30.0</td>\n",
       "      <td>40.0</td>\n",
       "      <td>1.0</td>\n",
       "      <td>Right Side Center(RC)</td>\n",
       "      <td>...</td>\n",
       "      <td>16-24 ft.</td>\n",
       "      <td>MANU @ VAN</td>\n",
       "      <td>49.250068, -123.114646</td>\n",
       "      <td>shot - 39</td>\n",
       "      <td>shot - 3</td>\n",
       "      <td>3.0000</td>\n",
       "      <td>2.00</td>\n",
       "      <td>0.000</td>\n",
       "      <td>30.0000</td>\n",
       "      <td>40.0</td>\n",
       "    </tr>\n",
       "    <tr>\n",
       "      <th>27</th>\n",
       "      <td>-27.0</td>\n",
       "      <td>272.0</td>\n",
       "      <td>0.000000</td>\n",
       "      <td>2.000000</td>\n",
       "      <td>0.0</td>\n",
       "      <td>2000-01</td>\n",
       "      <td>4.0</td>\n",
       "      <td>47.0</td>\n",
       "      <td>1.0</td>\n",
       "      <td>Center(C)</td>\n",
       "      <td>...</td>\n",
       "      <td>24+ ft.</td>\n",
       "      <td>MANU @ VAN</td>\n",
       "      <td>49.250068, -123.114646</td>\n",
       "      <td>shot - 39</td>\n",
       "      <td>shot - 3</td>\n",
       "      <td>75.6400</td>\n",
       "      <td>2.00</td>\n",
       "      <td>0.000</td>\n",
       "      <td>4.0000</td>\n",
       "      <td>47.0</td>\n",
       "    </tr>\n",
       "    <tr>\n",
       "      <th>28</th>\n",
       "      <td>-176.0</td>\n",
       "      <td>66.0</td>\n",
       "      <td>11.000000</td>\n",
       "      <td>3.000000</td>\n",
       "      <td>0.0</td>\n",
       "      <td>2000-01</td>\n",
       "      <td>12.0</td>\n",
       "      <td>38.0</td>\n",
       "      <td>0.0</td>\n",
       "      <td>Left Side(L)</td>\n",
       "      <td>...</td>\n",
       "      <td>16-24 ft.</td>\n",
       "      <td>MANU @ VAN</td>\n",
       "      <td>49.250068, -123.114646</td>\n",
       "      <td>shot - 39</td>\n",
       "      <td>shot - 3</td>\n",
       "      <td>11.0000</td>\n",
       "      <td>66.36</td>\n",
       "      <td>36.928</td>\n",
       "      <td>12.0000</td>\n",
       "      <td>57.4</td>\n",
       "    </tr>\n",
       "    <tr>\n",
       "      <th>29</th>\n",
       "      <td>7.0</td>\n",
       "      <td>4.0</td>\n",
       "      <td>10.000000</td>\n",
       "      <td>3.000000</td>\n",
       "      <td>0.0</td>\n",
       "      <td>2000-01</td>\n",
       "      <td>13.0</td>\n",
       "      <td>20.0</td>\n",
       "      <td>1.0</td>\n",
       "      <td>Center(C)</td>\n",
       "      <td>...</td>\n",
       "      <td>Less Than 8 ft.</td>\n",
       "      <td>MANU @ VAN</td>\n",
       "      <td>42.982923, -71.446094</td>\n",
       "      <td>shot - 39</td>\n",
       "      <td>shot - 3</td>\n",
       "      <td>36.6400</td>\n",
       "      <td>3.00</td>\n",
       "      <td>0.000</td>\n",
       "      <td>13.0000</td>\n",
       "      <td>20.0</td>\n",
       "    </tr>\n",
       "    <tr>\n",
       "      <th>...</th>\n",
       "      <td>...</td>\n",
       "      <td>...</td>\n",
       "      <td>...</td>\n",
       "      <td>...</td>\n",
       "      <td>...</td>\n",
       "      <td>...</td>\n",
       "      <td>...</td>\n",
       "      <td>...</td>\n",
       "      <td>...</td>\n",
       "      <td>...</td>\n",
       "      <td>...</td>\n",
       "      <td>...</td>\n",
       "      <td>...</td>\n",
       "      <td>...</td>\n",
       "      <td>...</td>\n",
       "      <td>...</td>\n",
       "      <td>...</td>\n",
       "      <td>...</td>\n",
       "      <td>...</td>\n",
       "      <td>...</td>\n",
       "      <td>...</td>\n",
       "    </tr>\n",
       "    <tr>\n",
       "      <th>19574</th>\n",
       "      <td>0.0</td>\n",
       "      <td>0.0</td>\n",
       "      <td>1.000000</td>\n",
       "      <td>1.000000</td>\n",
       "      <td>0.0</td>\n",
       "      <td>1999-00</td>\n",
       "      <td>36.0</td>\n",
       "      <td>20.0</td>\n",
       "      <td>1.0</td>\n",
       "      <td>Center(C)</td>\n",
       "      <td>...</td>\n",
       "      <td>Less Than 8 ft.</td>\n",
       "      <td>MANU vs. GSW</td>\n",
       "      <td>42.982923, -71.446094</td>\n",
       "      <td>shot - 12</td>\n",
       "      <td>shot - 3</td>\n",
       "      <td>1.0000</td>\n",
       "      <td>1.00</td>\n",
       "      <td>0.000</td>\n",
       "      <td>107.7856</td>\n",
       "      <td>103.4</td>\n",
       "    </tr>\n",
       "    <tr>\n",
       "      <th>19575</th>\n",
       "      <td>0.0</td>\n",
       "      <td>233.0</td>\n",
       "      <td>0.000000</td>\n",
       "      <td>2.520323</td>\n",
       "      <td>0.0</td>\n",
       "      <td>1999-00</td>\n",
       "      <td>51.0</td>\n",
       "      <td>45.0</td>\n",
       "      <td>1.0</td>\n",
       "      <td>Right Side Center(RC)</td>\n",
       "      <td>...</td>\n",
       "      <td>24+ ft.</td>\n",
       "      <td>MANU vs. GSW</td>\n",
       "      <td>42.982923, -71.446094</td>\n",
       "      <td>shot - 39</td>\n",
       "      <td>shot - 3</td>\n",
       "      <td>69.6400</td>\n",
       "      <td>1.00</td>\n",
       "      <td>0.000</td>\n",
       "      <td>51.0000</td>\n",
       "      <td>45.0</td>\n",
       "    </tr>\n",
       "    <tr>\n",
       "      <th>19576</th>\n",
       "      <td>-119.0</td>\n",
       "      <td>0.0</td>\n",
       "      <td>11.000000</td>\n",
       "      <td>2.000000</td>\n",
       "      <td>0.0</td>\n",
       "      <td>1999-00</td>\n",
       "      <td>28.0</td>\n",
       "      <td>31.0</td>\n",
       "      <td>0.0</td>\n",
       "      <td>Center(C)</td>\n",
       "      <td>...</td>\n",
       "      <td>8-16 ft.</td>\n",
       "      <td>MANU vs. GSW</td>\n",
       "      <td>42.982923, -71.446094</td>\n",
       "      <td>shot - 39</td>\n",
       "      <td>shot - 3</td>\n",
       "      <td>11.0000</td>\n",
       "      <td>2.00</td>\n",
       "      <td>0.000</td>\n",
       "      <td>28.0000</td>\n",
       "      <td>31.0</td>\n",
       "    </tr>\n",
       "    <tr>\n",
       "      <th>19577</th>\n",
       "      <td>-106.0</td>\n",
       "      <td>61.0</td>\n",
       "      <td>10.000000</td>\n",
       "      <td>2.000000</td>\n",
       "      <td>0.0</td>\n",
       "      <td>1999-00</td>\n",
       "      <td>24.0</td>\n",
       "      <td>32.0</td>\n",
       "      <td>0.0</td>\n",
       "      <td>Left Side(L)</td>\n",
       "      <td>...</td>\n",
       "      <td>8-16 ft.</td>\n",
       "      <td>MANU vs. GSW</td>\n",
       "      <td>42.982923, -71.446094</td>\n",
       "      <td>shot - 39</td>\n",
       "      <td>shot - 3</td>\n",
       "      <td>10.0000</td>\n",
       "      <td>2.00</td>\n",
       "      <td>0.000</td>\n",
       "      <td>24.0000</td>\n",
       "      <td>32.0</td>\n",
       "    </tr>\n",
       "    <tr>\n",
       "      <th>19578</th>\n",
       "      <td>0.0</td>\n",
       "      <td>0.0</td>\n",
       "      <td>6.000000</td>\n",
       "      <td>3.000000</td>\n",
       "      <td>0.0</td>\n",
       "      <td>1999-00</td>\n",
       "      <td>47.0</td>\n",
       "      <td>20.0</td>\n",
       "      <td>0.0</td>\n",
       "      <td>Center(C)</td>\n",
       "      <td>...</td>\n",
       "      <td>Less Than 8 ft.</td>\n",
       "      <td>MANU @ SAC</td>\n",
       "      <td>42.982923, -71.446094</td>\n",
       "      <td>shot - 39</td>\n",
       "      <td>shot - 4</td>\n",
       "      <td>6.0000</td>\n",
       "      <td>3.00</td>\n",
       "      <td>0.000</td>\n",
       "      <td>47.0000</td>\n",
       "      <td>20.0</td>\n",
       "    </tr>\n",
       "    <tr>\n",
       "      <th>19579</th>\n",
       "      <td>115.0</td>\n",
       "      <td>139.0</td>\n",
       "      <td>5.000000</td>\n",
       "      <td>3.000000</td>\n",
       "      <td>0.0</td>\n",
       "      <td>1999-00</td>\n",
       "      <td>4.0</td>\n",
       "      <td>38.0</td>\n",
       "      <td>0.0</td>\n",
       "      <td>Right Side Center(RC)</td>\n",
       "      <td>...</td>\n",
       "      <td>16-24 ft.</td>\n",
       "      <td>MANU vs. GSW</td>\n",
       "      <td>42.982923, -71.446094</td>\n",
       "      <td>shot - 35</td>\n",
       "      <td>shot - 3</td>\n",
       "      <td>5.0000</td>\n",
       "      <td>3.00</td>\n",
       "      <td>0.000</td>\n",
       "      <td>4.0000</td>\n",
       "      <td>20.0</td>\n",
       "    </tr>\n",
       "    <tr>\n",
       "      <th>19580</th>\n",
       "      <td>-171.0</td>\n",
       "      <td>0.0</td>\n",
       "      <td>4.000000</td>\n",
       "      <td>3.000000</td>\n",
       "      <td>0.0</td>\n",
       "      <td>1999-00</td>\n",
       "      <td>10.0</td>\n",
       "      <td>47.0</td>\n",
       "      <td>0.0</td>\n",
       "      <td>Left Side Center(LC)</td>\n",
       "      <td>...</td>\n",
       "      <td>24+ ft.</td>\n",
       "      <td>MANU vs. GSW</td>\n",
       "      <td>42.982923, -71.446094</td>\n",
       "      <td>shot - 39</td>\n",
       "      <td>shot - 3</td>\n",
       "      <td>4.0000</td>\n",
       "      <td>3.00</td>\n",
       "      <td>0.000</td>\n",
       "      <td>10.0000</td>\n",
       "      <td>47.0</td>\n",
       "    </tr>\n",
       "    <tr>\n",
       "      <th>19581</th>\n",
       "      <td>0.0</td>\n",
       "      <td>0.0</td>\n",
       "      <td>11.000000</td>\n",
       "      <td>1.000000</td>\n",
       "      <td>0.0</td>\n",
       "      <td>1999-00</td>\n",
       "      <td>48.0</td>\n",
       "      <td>20.0</td>\n",
       "      <td>1.0</td>\n",
       "      <td>Center(C)</td>\n",
       "      <td>...</td>\n",
       "      <td>Less Than 8 ft.</td>\n",
       "      <td>MANU vs. PHX</td>\n",
       "      <td>42.982923, -71.446094</td>\n",
       "      <td>shot - 39</td>\n",
       "      <td>shot - 1</td>\n",
       "      <td>11.0000</td>\n",
       "      <td>1.00</td>\n",
       "      <td>0.000</td>\n",
       "      <td>48.0000</td>\n",
       "      <td>20.0</td>\n",
       "    </tr>\n",
       "    <tr>\n",
       "      <th>19582</th>\n",
       "      <td>0.0</td>\n",
       "      <td>0.0</td>\n",
       "      <td>9.000000</td>\n",
       "      <td>1.000000</td>\n",
       "      <td>0.0</td>\n",
       "      <td>1999-00</td>\n",
       "      <td>23.0</td>\n",
       "      <td>20.0</td>\n",
       "      <td>1.0</td>\n",
       "      <td>Center(C)</td>\n",
       "      <td>...</td>\n",
       "      <td>Less Than 8 ft.</td>\n",
       "      <td>MANU vs. PHX</td>\n",
       "      <td>42.982923, -71.446094</td>\n",
       "      <td>shot - 39</td>\n",
       "      <td>shot - 4</td>\n",
       "      <td>34.6400</td>\n",
       "      <td>1.00</td>\n",
       "      <td>0.000</td>\n",
       "      <td>23.0000</td>\n",
       "      <td>20.0</td>\n",
       "    </tr>\n",
       "    <tr>\n",
       "      <th>19583</th>\n",
       "      <td>130.0</td>\n",
       "      <td>83.0</td>\n",
       "      <td>10.000000</td>\n",
       "      <td>2.000000</td>\n",
       "      <td>0.0</td>\n",
       "      <td>2005-06</td>\n",
       "      <td>27.0</td>\n",
       "      <td>35.0</td>\n",
       "      <td>0.0</td>\n",
       "      <td>Right Side(R)</td>\n",
       "      <td>...</td>\n",
       "      <td>8-16 ft.</td>\n",
       "      <td>MANU vs. PHX</td>\n",
       "      <td>42.982923, -71.446094</td>\n",
       "      <td>shot - 55</td>\n",
       "      <td>shot - 3</td>\n",
       "      <td>10.0000</td>\n",
       "      <td>2.00</td>\n",
       "      <td>74.928</td>\n",
       "      <td>92.2000</td>\n",
       "      <td>35.0</td>\n",
       "    </tr>\n",
       "    <tr>\n",
       "      <th>19584</th>\n",
       "      <td>0.0</td>\n",
       "      <td>0.0</td>\n",
       "      <td>8.000000</td>\n",
       "      <td>2.000000</td>\n",
       "      <td>0.0</td>\n",
       "      <td>1999-00</td>\n",
       "      <td>27.0</td>\n",
       "      <td>20.0</td>\n",
       "      <td>1.0</td>\n",
       "      <td>Center(C)</td>\n",
       "      <td>...</td>\n",
       "      <td>Less Than 8 ft.</td>\n",
       "      <td>MANU vs. PHX</td>\n",
       "      <td>42.982923, -71.446094</td>\n",
       "      <td>shot - 4</td>\n",
       "      <td>shot - 3</td>\n",
       "      <td>8.0000</td>\n",
       "      <td>2.00</td>\n",
       "      <td>0.000</td>\n",
       "      <td>27.0000</td>\n",
       "      <td>19.4</td>\n",
       "    </tr>\n",
       "    <tr>\n",
       "      <th>19585</th>\n",
       "      <td>143.0</td>\n",
       "      <td>115.0</td>\n",
       "      <td>7.000000</td>\n",
       "      <td>2.520323</td>\n",
       "      <td>0.0</td>\n",
       "      <td>1999-00</td>\n",
       "      <td>34.0</td>\n",
       "      <td>38.0</td>\n",
       "      <td>1.0</td>\n",
       "      <td>Right Side Center(RC)</td>\n",
       "      <td>...</td>\n",
       "      <td>16-24 ft.</td>\n",
       "      <td>MANU vs. PHX</td>\n",
       "      <td>42.982923, -71.446094</td>\n",
       "      <td>shot - 6</td>\n",
       "      <td>shot - 3</td>\n",
       "      <td>7.0000</td>\n",
       "      <td>2.00</td>\n",
       "      <td>0.000</td>\n",
       "      <td>34.0000</td>\n",
       "      <td>38.0</td>\n",
       "    </tr>\n",
       "    <tr>\n",
       "      <th>19586</th>\n",
       "      <td>-27.0</td>\n",
       "      <td>100.0</td>\n",
       "      <td>4.000000</td>\n",
       "      <td>2.000000</td>\n",
       "      <td>0.0</td>\n",
       "      <td>1999-00</td>\n",
       "      <td>37.0</td>\n",
       "      <td>30.0</td>\n",
       "      <td>1.0</td>\n",
       "      <td>Center(C)</td>\n",
       "      <td>...</td>\n",
       "      <td>8-16 ft.</td>\n",
       "      <td>MANU @ SAC</td>\n",
       "      <td>42.982923, -71.446094</td>\n",
       "      <td>shot - 39</td>\n",
       "      <td>shot - 3</td>\n",
       "      <td>46.2000</td>\n",
       "      <td>2.00</td>\n",
       "      <td>0.000</td>\n",
       "      <td>37.0000</td>\n",
       "      <td>30.0</td>\n",
       "    </tr>\n",
       "    <tr>\n",
       "      <th>19587</th>\n",
       "      <td>-119.0</td>\n",
       "      <td>27.0</td>\n",
       "      <td>4.000000</td>\n",
       "      <td>2.000000</td>\n",
       "      <td>0.0</td>\n",
       "      <td>1999-00</td>\n",
       "      <td>2.0</td>\n",
       "      <td>32.0</td>\n",
       "      <td>0.0</td>\n",
       "      <td>Left Side(L)</td>\n",
       "      <td>...</td>\n",
       "      <td>8-16 ft.</td>\n",
       "      <td>MANU vs. PHX</td>\n",
       "      <td>42.982923, -71.446094</td>\n",
       "      <td>shot - 49</td>\n",
       "      <td>shot - 3</td>\n",
       "      <td>4.0000</td>\n",
       "      <td>23.36</td>\n",
       "      <td>0.000</td>\n",
       "      <td>2.0000</td>\n",
       "      <td>32.0</td>\n",
       "    </tr>\n",
       "    <tr>\n",
       "      <th>19588</th>\n",
       "      <td>-149.0</td>\n",
       "      <td>143.0</td>\n",
       "      <td>2.000000</td>\n",
       "      <td>2.000000</td>\n",
       "      <td>0.0</td>\n",
       "      <td>1999-00</td>\n",
       "      <td>1.0</td>\n",
       "      <td>40.0</td>\n",
       "      <td>0.0</td>\n",
       "      <td>Left Side Center(LC)</td>\n",
       "      <td>...</td>\n",
       "      <td>16-24 ft.</td>\n",
       "      <td>MANU vs. PHX</td>\n",
       "      <td>42.982923, -71.446094</td>\n",
       "      <td>shot - 51</td>\n",
       "      <td>shot - 3</td>\n",
       "      <td>0.0000</td>\n",
       "      <td>2.00</td>\n",
       "      <td>0.000</td>\n",
       "      <td>1.0000</td>\n",
       "      <td>40.0</td>\n",
       "    </tr>\n",
       "    <tr>\n",
       "      <th>19589</th>\n",
       "      <td>0.0</td>\n",
       "      <td>0.0</td>\n",
       "      <td>9.000000</td>\n",
       "      <td>3.000000</td>\n",
       "      <td>0.0</td>\n",
       "      <td>1999-00</td>\n",
       "      <td>18.0</td>\n",
       "      <td>20.0</td>\n",
       "      <td>1.0</td>\n",
       "      <td>Center(C)</td>\n",
       "      <td>...</td>\n",
       "      <td>Less Than 8 ft.</td>\n",
       "      <td>MANU vs. PHX</td>\n",
       "      <td>42.982923, -71.446094</td>\n",
       "      <td>shot - 39</td>\n",
       "      <td>shot - 3</td>\n",
       "      <td>9.0000</td>\n",
       "      <td>3.00</td>\n",
       "      <td>0.000</td>\n",
       "      <td>18.0000</td>\n",
       "      <td>20.0</td>\n",
       "    </tr>\n",
       "    <tr>\n",
       "      <th>19590</th>\n",
       "      <td>0.0</td>\n",
       "      <td>0.0</td>\n",
       "      <td>7.000000</td>\n",
       "      <td>3.000000</td>\n",
       "      <td>0.0</td>\n",
       "      <td>1999-00</td>\n",
       "      <td>24.0</td>\n",
       "      <td>20.0</td>\n",
       "      <td>1.0</td>\n",
       "      <td>Center(C)</td>\n",
       "      <td>...</td>\n",
       "      <td>Less Than 8 ft.</td>\n",
       "      <td>MANU vs. PHX</td>\n",
       "      <td>42.982923, -71.446094</td>\n",
       "      <td>shot - 39</td>\n",
       "      <td>shot - 4</td>\n",
       "      <td>7.0000</td>\n",
       "      <td>3.00</td>\n",
       "      <td>75.800</td>\n",
       "      <td>24.0000</td>\n",
       "      <td>20.0</td>\n",
       "    </tr>\n",
       "    <tr>\n",
       "      <th>19591</th>\n",
       "      <td>-113.0</td>\n",
       "      <td>229.0</td>\n",
       "      <td>4.864169</td>\n",
       "      <td>3.000000</td>\n",
       "      <td>0.0</td>\n",
       "      <td>2005-06</td>\n",
       "      <td>16.0</td>\n",
       "      <td>45.0</td>\n",
       "      <td>0.0</td>\n",
       "      <td>Left Side Center(LC)</td>\n",
       "      <td>...</td>\n",
       "      <td>24+ ft.</td>\n",
       "      <td>MANU vs. PHX</td>\n",
       "      <td>42.982923, -71.446094</td>\n",
       "      <td>shot - 39</td>\n",
       "      <td>shot - 3</td>\n",
       "      <td>0.0000</td>\n",
       "      <td>3.00</td>\n",
       "      <td>25.800</td>\n",
       "      <td>110.7856</td>\n",
       "      <td>20.0</td>\n",
       "    </tr>\n",
       "    <tr>\n",
       "      <th>19592</th>\n",
       "      <td>74.0</td>\n",
       "      <td>145.0</td>\n",
       "      <td>10.000000</td>\n",
       "      <td>1.000000</td>\n",
       "      <td>0.0</td>\n",
       "      <td>1999-00</td>\n",
       "      <td>10.0</td>\n",
       "      <td>36.0</td>\n",
       "      <td>1.0</td>\n",
       "      <td>Right Side Center(RC)</td>\n",
       "      <td>...</td>\n",
       "      <td>16-24 ft.</td>\n",
       "      <td>MANU @ SAC</td>\n",
       "      <td>38.567296, -121.456638</td>\n",
       "      <td>shot - 39</td>\n",
       "      <td>shot - 3</td>\n",
       "      <td>10.0000</td>\n",
       "      <td>108.36</td>\n",
       "      <td>0.000</td>\n",
       "      <td>40.2000</td>\n",
       "      <td>36.0</td>\n",
       "    </tr>\n",
       "    <tr>\n",
       "      <th>19593</th>\n",
       "      <td>-126.0</td>\n",
       "      <td>149.0</td>\n",
       "      <td>7.000000</td>\n",
       "      <td>1.000000</td>\n",
       "      <td>0.0</td>\n",
       "      <td>1999-00</td>\n",
       "      <td>4.0</td>\n",
       "      <td>39.0</td>\n",
       "      <td>0.0</td>\n",
       "      <td>Left Side Center(LC)</td>\n",
       "      <td>...</td>\n",
       "      <td>16-24 ft.</td>\n",
       "      <td>MANU @ SAC</td>\n",
       "      <td>38.567296, -121.456638</td>\n",
       "      <td>shot - 24</td>\n",
       "      <td>shot - 3</td>\n",
       "      <td>7.0000</td>\n",
       "      <td>93.36</td>\n",
       "      <td>0.000</td>\n",
       "      <td>110.7856</td>\n",
       "      <td>39.0</td>\n",
       "    </tr>\n",
       "    <tr>\n",
       "      <th>19594</th>\n",
       "      <td>-147.0</td>\n",
       "      <td>-8.0</td>\n",
       "      <td>4.864169</td>\n",
       "      <td>1.000000</td>\n",
       "      <td>0.0</td>\n",
       "      <td>1999-00</td>\n",
       "      <td>24.0</td>\n",
       "      <td>34.0</td>\n",
       "      <td>1.0</td>\n",
       "      <td>Center(C)</td>\n",
       "      <td>...</td>\n",
       "      <td>8-16 ft.</td>\n",
       "      <td>MANU @ SAC</td>\n",
       "      <td>38.567296, -121.456638</td>\n",
       "      <td>shot - 39</td>\n",
       "      <td>shot - 3</td>\n",
       "      <td>6.0000</td>\n",
       "      <td>3.00</td>\n",
       "      <td>0.000</td>\n",
       "      <td>24.0000</td>\n",
       "      <td>34.0</td>\n",
       "    </tr>\n",
       "    <tr>\n",
       "      <th>19595</th>\n",
       "      <td>154.0</td>\n",
       "      <td>3.0</td>\n",
       "      <td>1.000000</td>\n",
       "      <td>1.000000</td>\n",
       "      <td>0.0</td>\n",
       "      <td>1999-00</td>\n",
       "      <td>57.0</td>\n",
       "      <td>35.0</td>\n",
       "      <td>0.0</td>\n",
       "      <td>Right Side(R)</td>\n",
       "      <td>...</td>\n",
       "      <td>8-16 ft.</td>\n",
       "      <td>MANU @ SAC</td>\n",
       "      <td>38.567296, -121.456638</td>\n",
       "      <td>shot - 39</td>\n",
       "      <td>shot - 3</td>\n",
       "      <td>1.0000</td>\n",
       "      <td>1.00</td>\n",
       "      <td>0.000</td>\n",
       "      <td>64.2000</td>\n",
       "      <td>35.0</td>\n",
       "    </tr>\n",
       "    <tr>\n",
       "      <th>19596</th>\n",
       "      <td>0.0</td>\n",
       "      <td>0.0</td>\n",
       "      <td>1.000000</td>\n",
       "      <td>1.000000</td>\n",
       "      <td>0.0</td>\n",
       "      <td>2005-06</td>\n",
       "      <td>25.0</td>\n",
       "      <td>20.0</td>\n",
       "      <td>1.0</td>\n",
       "      <td>Center(C)</td>\n",
       "      <td>...</td>\n",
       "      <td>Less Than 8 ft.</td>\n",
       "      <td>MANU @ SAC</td>\n",
       "      <td>38.567296, -121.456638</td>\n",
       "      <td>shot - 39</td>\n",
       "      <td>shot - 4</td>\n",
       "      <td>1.0000</td>\n",
       "      <td>1.00</td>\n",
       "      <td>0.000</td>\n",
       "      <td>25.0000</td>\n",
       "      <td>20.0</td>\n",
       "    </tr>\n",
       "    <tr>\n",
       "      <th>19597</th>\n",
       "      <td>-18.0</td>\n",
       "      <td>242.0</td>\n",
       "      <td>0.000000</td>\n",
       "      <td>1.000000</td>\n",
       "      <td>0.0</td>\n",
       "      <td>1999-00</td>\n",
       "      <td>36.0</td>\n",
       "      <td>44.0</td>\n",
       "      <td>0.0</td>\n",
       "      <td>Center(C)</td>\n",
       "      <td>...</td>\n",
       "      <td>24+ ft.</td>\n",
       "      <td>MANU @ SAC</td>\n",
       "      <td>38.567296, -121.456638</td>\n",
       "      <td>shot - 14</td>\n",
       "      <td>shot - 3</td>\n",
       "      <td>0.0000</td>\n",
       "      <td>1.00</td>\n",
       "      <td>26.800</td>\n",
       "      <td>36.0000</td>\n",
       "      <td>44.0</td>\n",
       "    </tr>\n",
       "    <tr>\n",
       "      <th>19598</th>\n",
       "      <td>74.0</td>\n",
       "      <td>53.0</td>\n",
       "      <td>0.000000</td>\n",
       "      <td>1.000000</td>\n",
       "      <td>0.0</td>\n",
       "      <td>1999-00</td>\n",
       "      <td>0.0</td>\n",
       "      <td>29.0</td>\n",
       "      <td>0.0</td>\n",
       "      <td>Right Side(R)</td>\n",
       "      <td>...</td>\n",
       "      <td>8-16 ft.</td>\n",
       "      <td>MANU @ SAC</td>\n",
       "      <td>38.567296, -121.456638</td>\n",
       "      <td>shot - 3</td>\n",
       "      <td>shot - 3</td>\n",
       "      <td>23.6400</td>\n",
       "      <td>1.00</td>\n",
       "      <td>0.000</td>\n",
       "      <td>0.0000</td>\n",
       "      <td>29.0</td>\n",
       "    </tr>\n",
       "    <tr>\n",
       "      <th>19599</th>\n",
       "      <td>-169.0</td>\n",
       "      <td>121.0</td>\n",
       "      <td>10.000000</td>\n",
       "      <td>2.000000</td>\n",
       "      <td>0.0</td>\n",
       "      <td>1999-00</td>\n",
       "      <td>41.0</td>\n",
       "      <td>40.0</td>\n",
       "      <td>0.0</td>\n",
       "      <td>Left Side(L)</td>\n",
       "      <td>...</td>\n",
       "      <td>16-24 ft.</td>\n",
       "      <td>MANU @ SAC</td>\n",
       "      <td>38.567296, -121.456638</td>\n",
       "      <td>shot - 39</td>\n",
       "      <td>shot - 3</td>\n",
       "      <td>10.0000</td>\n",
       "      <td>2.00</td>\n",
       "      <td>0.000</td>\n",
       "      <td>41.0000</td>\n",
       "      <td>40.0</td>\n",
       "    </tr>\n",
       "    <tr>\n",
       "      <th>19600</th>\n",
       "      <td>0.0</td>\n",
       "      <td>0.0</td>\n",
       "      <td>5.000000</td>\n",
       "      <td>2.000000</td>\n",
       "      <td>0.0</td>\n",
       "      <td>1999-00</td>\n",
       "      <td>23.0</td>\n",
       "      <td>20.0</td>\n",
       "      <td>1.0</td>\n",
       "      <td>Center(C)</td>\n",
       "      <td>...</td>\n",
       "      <td>Less Than 8 ft.</td>\n",
       "      <td>MANU @ SAC</td>\n",
       "      <td>38.567296, -121.456638</td>\n",
       "      <td>shot - 39</td>\n",
       "      <td>shot - 5</td>\n",
       "      <td>38.7616</td>\n",
       "      <td>41.36</td>\n",
       "      <td>119.928</td>\n",
       "      <td>71.7856</td>\n",
       "      <td>95.4</td>\n",
       "    </tr>\n",
       "    <tr>\n",
       "      <th>19601</th>\n",
       "      <td>-162.0</td>\n",
       "      <td>3.0</td>\n",
       "      <td>4.000000</td>\n",
       "      <td>2.000000</td>\n",
       "      <td>0.0</td>\n",
       "      <td>1999-00</td>\n",
       "      <td>34.0</td>\n",
       "      <td>36.0</td>\n",
       "      <td>1.0</td>\n",
       "      <td>Left Side(L)</td>\n",
       "      <td>...</td>\n",
       "      <td>Less Than 8 ft.</td>\n",
       "      <td>MANU @ SAC</td>\n",
       "      <td>38.567296, -121.456638</td>\n",
       "      <td>shot - 56</td>\n",
       "      <td>shot - 3</td>\n",
       "      <td>23.6400</td>\n",
       "      <td>2.00</td>\n",
       "      <td>0.000</td>\n",
       "      <td>34.0000</td>\n",
       "      <td>36.0</td>\n",
       "    </tr>\n",
       "    <tr>\n",
       "      <th>19602</th>\n",
       "      <td>0.0</td>\n",
       "      <td>0.0</td>\n",
       "      <td>2.000000</td>\n",
       "      <td>2.000000</td>\n",
       "      <td>0.0</td>\n",
       "      <td>1999-00</td>\n",
       "      <td>26.0</td>\n",
       "      <td>20.0</td>\n",
       "      <td>1.0</td>\n",
       "      <td>Center(C)</td>\n",
       "      <td>...</td>\n",
       "      <td>Less Than 8 ft.</td>\n",
       "      <td>MANU @ SAC</td>\n",
       "      <td>38.567296, -121.456638</td>\n",
       "      <td>shot - 39</td>\n",
       "      <td>shot - 4</td>\n",
       "      <td>2.0000</td>\n",
       "      <td>2.00</td>\n",
       "      <td>49.928</td>\n",
       "      <td>0.0000</td>\n",
       "      <td>20.0</td>\n",
       "    </tr>\n",
       "    <tr>\n",
       "      <th>19603</th>\n",
       "      <td>0.0</td>\n",
       "      <td>0.0</td>\n",
       "      <td>0.000000</td>\n",
       "      <td>3.000000</td>\n",
       "      <td>0.0</td>\n",
       "      <td>1999-00</td>\n",
       "      <td>42.0</td>\n",
       "      <td>20.0</td>\n",
       "      <td>0.0</td>\n",
       "      <td>Center(C)</td>\n",
       "      <td>...</td>\n",
       "      <td>Less Than 8 ft.</td>\n",
       "      <td>MANU @ SAC</td>\n",
       "      <td>42.982923, -71.446094</td>\n",
       "      <td>shot - 39</td>\n",
       "      <td>shot - 4</td>\n",
       "      <td>106.7616</td>\n",
       "      <td>3.00</td>\n",
       "      <td>0.000</td>\n",
       "      <td>42.0000</td>\n",
       "      <td>20.0</td>\n",
       "    </tr>\n",
       "  </tbody>\n",
       "</table>\n",
       "<p>19604 rows × 21 columns</p>\n",
       "</div>"
      ],
      "text/plain": [
       "       location_x  location_y  remaining_min  power_of_shot  knockout_match  \\\n",
       "0          -157.0         0.0      10.000000       1.000000             0.0   \n",
       "1          -101.0       135.0       7.000000       1.000000             0.0   \n",
       "2           138.0       175.0       6.000000       1.000000             0.0   \n",
       "3             0.0         0.0       4.864169       2.000000             0.0   \n",
       "4          -145.0       -11.0       9.000000       3.000000             0.0   \n",
       "5             0.0         0.0       8.000000       2.520323             0.0   \n",
       "6           -65.0         0.0       6.000000       3.000000             0.0   \n",
       "7           -33.0         0.0       3.000000       3.000000             0.0   \n",
       "8           121.0       127.0      11.000000       1.000000             0.0   \n",
       "9           -67.0         0.0       7.000000       1.000000             0.0   \n",
       "10          -94.0         4.0       4.864169       1.000000             0.0   \n",
       "11          -23.0        47.0       1.000000       1.000000             0.0   \n",
       "12            0.0       192.0       0.000000       1.000000             0.0   \n",
       "13         -117.0       226.0       8.000000       2.000000             0.0   \n",
       "14            0.0        97.0      11.000000       3.000000             0.0   \n",
       "15            3.0       144.0      10.000000       3.000000             0.0   \n",
       "16          -16.0       110.0       7.000000       3.000000             0.0   \n",
       "17         -109.0       150.0       5.000000       3.000000             0.0   \n",
       "18          -46.0        63.0       5.000000       3.000000             0.0   \n",
       "19            0.0         0.0       2.000000       3.000000             0.0   \n",
       "20            0.0       196.0       2.000000       3.000000             0.0   \n",
       "21         -183.0       186.0       0.000000       3.000000             0.0   \n",
       "22           85.0       173.0       8.000000       4.000000             0.0   \n",
       "23            3.0        87.0       6.000000       4.000000             0.0   \n",
       "24          121.0         4.0       1.000000       4.000000             0.0   \n",
       "25          127.0        34.0       0.000000       4.000000             0.0   \n",
       "26           91.0       184.0       3.000000       2.000000             0.0   \n",
       "27          -27.0       272.0       0.000000       2.000000             0.0   \n",
       "28         -176.0        66.0      11.000000       3.000000             0.0   \n",
       "29            7.0         4.0      10.000000       3.000000             0.0   \n",
       "...           ...         ...            ...            ...             ...   \n",
       "19574         0.0         0.0       1.000000       1.000000             0.0   \n",
       "19575         0.0       233.0       0.000000       2.520323             0.0   \n",
       "19576      -119.0         0.0      11.000000       2.000000             0.0   \n",
       "19577      -106.0        61.0      10.000000       2.000000             0.0   \n",
       "19578         0.0         0.0       6.000000       3.000000             0.0   \n",
       "19579       115.0       139.0       5.000000       3.000000             0.0   \n",
       "19580      -171.0         0.0       4.000000       3.000000             0.0   \n",
       "19581         0.0         0.0      11.000000       1.000000             0.0   \n",
       "19582         0.0         0.0       9.000000       1.000000             0.0   \n",
       "19583       130.0        83.0      10.000000       2.000000             0.0   \n",
       "19584         0.0         0.0       8.000000       2.000000             0.0   \n",
       "19585       143.0       115.0       7.000000       2.520323             0.0   \n",
       "19586       -27.0       100.0       4.000000       2.000000             0.0   \n",
       "19587      -119.0        27.0       4.000000       2.000000             0.0   \n",
       "19588      -149.0       143.0       2.000000       2.000000             0.0   \n",
       "19589         0.0         0.0       9.000000       3.000000             0.0   \n",
       "19590         0.0         0.0       7.000000       3.000000             0.0   \n",
       "19591      -113.0       229.0       4.864169       3.000000             0.0   \n",
       "19592        74.0       145.0      10.000000       1.000000             0.0   \n",
       "19593      -126.0       149.0       7.000000       1.000000             0.0   \n",
       "19594      -147.0        -8.0       4.864169       1.000000             0.0   \n",
       "19595       154.0         3.0       1.000000       1.000000             0.0   \n",
       "19596         0.0         0.0       1.000000       1.000000             0.0   \n",
       "19597       -18.0       242.0       0.000000       1.000000             0.0   \n",
       "19598        74.0        53.0       0.000000       1.000000             0.0   \n",
       "19599      -169.0       121.0      10.000000       2.000000             0.0   \n",
       "19600         0.0         0.0       5.000000       2.000000             0.0   \n",
       "19601      -162.0         3.0       4.000000       2.000000             0.0   \n",
       "19602         0.0         0.0       2.000000       2.000000             0.0   \n",
       "19603         0.0         0.0       0.000000       3.000000             0.0   \n",
       "\n",
       "      game_season  remaining_sec  distance_of_shot  is_goal  \\\n",
       "0         2000-01           22.0              35.0      0.0   \n",
       "1         2000-01           45.0              36.0      1.0   \n",
       "2         2000-01           52.0              42.0      0.0   \n",
       "3         2000-01           19.0              20.0      1.0   \n",
       "4         2005-06           32.0              34.0      0.0   \n",
       "5         2000-01           52.0              20.0      1.0   \n",
       "6         2000-01           12.0              32.0      1.0   \n",
       "7         2000-01           36.0              32.0      0.0   \n",
       "8         2000-01            0.0              37.0      1.0   \n",
       "9         2005-06            0.0              20.0      1.0   \n",
       "10        2000-01           44.0              29.0      0.0   \n",
       "11        2000-01           16.0              25.0      0.0   \n",
       "12        2000-01            0.0              40.0      0.0   \n",
       "13        2000-01           50.0              45.0      1.0   \n",
       "14        2000-01           29.0              36.0      0.0   \n",
       "15        2000-01            8.0              34.0      0.0   \n",
       "16        2000-01           57.0              31.0      1.0   \n",
       "17        2005-06           47.0              38.0      1.0   \n",
       "18        2000-01           11.0              27.0      1.0   \n",
       "19        2000-01           36.0              20.0      0.0   \n",
       "20        2000-01            4.0              40.0      0.0   \n",
       "21        2000-01           30.0              46.0      0.0   \n",
       "22        2000-01            0.0              39.0      0.0   \n",
       "23        2000-01           22.0              28.0      0.0   \n",
       "24        2000-01           20.0              20.0      1.0   \n",
       "25        2005-06           30.0              33.0      0.0   \n",
       "26        2000-01           30.0              40.0      1.0   \n",
       "27        2000-01            4.0              47.0      1.0   \n",
       "28        2000-01           12.0              38.0      0.0   \n",
       "29        2000-01           13.0              20.0      1.0   \n",
       "...           ...            ...               ...      ...   \n",
       "19574     1999-00           36.0              20.0      1.0   \n",
       "19575     1999-00           51.0              45.0      1.0   \n",
       "19576     1999-00           28.0              31.0      0.0   \n",
       "19577     1999-00           24.0              32.0      0.0   \n",
       "19578     1999-00           47.0              20.0      0.0   \n",
       "19579     1999-00            4.0              38.0      0.0   \n",
       "19580     1999-00           10.0              47.0      0.0   \n",
       "19581     1999-00           48.0              20.0      1.0   \n",
       "19582     1999-00           23.0              20.0      1.0   \n",
       "19583     2005-06           27.0              35.0      0.0   \n",
       "19584     1999-00           27.0              20.0      1.0   \n",
       "19585     1999-00           34.0              38.0      1.0   \n",
       "19586     1999-00           37.0              30.0      1.0   \n",
       "19587     1999-00            2.0              32.0      0.0   \n",
       "19588     1999-00            1.0              40.0      0.0   \n",
       "19589     1999-00           18.0              20.0      1.0   \n",
       "19590     1999-00           24.0              20.0      1.0   \n",
       "19591     2005-06           16.0              45.0      0.0   \n",
       "19592     1999-00           10.0              36.0      1.0   \n",
       "19593     1999-00            4.0              39.0      0.0   \n",
       "19594     1999-00           24.0              34.0      1.0   \n",
       "19595     1999-00           57.0              35.0      0.0   \n",
       "19596     2005-06           25.0              20.0      1.0   \n",
       "19597     1999-00           36.0              44.0      0.0   \n",
       "19598     1999-00            0.0              29.0      0.0   \n",
       "19599     1999-00           41.0              40.0      0.0   \n",
       "19600     1999-00           23.0              20.0      1.0   \n",
       "19601     1999-00           34.0              36.0      1.0   \n",
       "19602     1999-00           26.0              20.0      1.0   \n",
       "19603     1999-00           42.0              20.0      0.0   \n",
       "\n",
       "                area_of_shot  ...    range_of_shot     home/away  \\\n",
       "0               Left Side(L)  ...         8-16 ft.    MANU @ POR   \n",
       "1       Left Side Center(LC)  ...        16-24 ft.    MANU @ SAC   \n",
       "2      Right Side Center(RC)  ...        16-24 ft.    MANU @ POR   \n",
       "3                  Center(C)  ...  Less Than 8 ft.    MANU @ POR   \n",
       "4               Left Side(L)  ...         8-16 ft.    MANU @ POR   \n",
       "5                  Center(C)  ...  Less Than 8 ft.    MANU @ POR   \n",
       "6               Left Side(L)  ...         8-16 ft.    MANU @ POR   \n",
       "7                  Center(C)  ...         8-16 ft.    MANU @ POR   \n",
       "8      Right Side Center(RC)  ...        16-24 ft.  MANU vs. UTA   \n",
       "9               Left Side(L)  ...         8-16 ft.  MANU vs. UTA   \n",
       "10              Left Side(L)  ...         8-16 ft.  MANU vs. UTA   \n",
       "11                 Center(C)  ...  Less Than 8 ft.  MANU vs. UTA   \n",
       "12                 Center(C)  ...        16-24 ft.  MANU vs. UTA   \n",
       "13      Left Side Center(LC)  ...  Less Than 8 ft.  MANU vs. UTA   \n",
       "14      Left Side Center(LC)  ...        16-24 ft.  MANU vs. UTA   \n",
       "15                 Center(C)  ...         8-16 ft.  MANU vs. UTA   \n",
       "16                 Center(C)  ...         8-16 ft.  MANU vs. UTA   \n",
       "17      Left Side Center(LC)  ...        16-24 ft.  MANU vs. UTA   \n",
       "18                 Center(C)  ...  Less Than 8 ft.  MANU vs. UTA   \n",
       "19                 Center(C)  ...  Less Than 8 ft.  MANU vs. UTA   \n",
       "20                 Center(C)  ...        16-24 ft.  MANU vs. UTA   \n",
       "21      Left Side Center(LC)  ...          24+ ft.  MANU vs. UTA   \n",
       "22     Right Side Center(RC)  ...        16-24 ft.  MANU vs. UTA   \n",
       "23                 Center(C)  ...         8-16 ft.  MANU vs. UTA   \n",
       "24             Right Side(R)  ...         8-16 ft.  MANU vs. UTA   \n",
       "25             Right Side(R)  ...         8-16 ft.  MANU vs. UTA   \n",
       "26     Right Side Center(RC)  ...        16-24 ft.    MANU @ VAN   \n",
       "27                 Center(C)  ...          24+ ft.    MANU @ VAN   \n",
       "28              Left Side(L)  ...        16-24 ft.    MANU @ VAN   \n",
       "29                 Center(C)  ...  Less Than 8 ft.    MANU @ VAN   \n",
       "...                      ...  ...              ...           ...   \n",
       "19574              Center(C)  ...  Less Than 8 ft.  MANU vs. GSW   \n",
       "19575  Right Side Center(RC)  ...          24+ ft.  MANU vs. GSW   \n",
       "19576              Center(C)  ...         8-16 ft.  MANU vs. GSW   \n",
       "19577           Left Side(L)  ...         8-16 ft.  MANU vs. GSW   \n",
       "19578              Center(C)  ...  Less Than 8 ft.    MANU @ SAC   \n",
       "19579  Right Side Center(RC)  ...        16-24 ft.  MANU vs. GSW   \n",
       "19580   Left Side Center(LC)  ...          24+ ft.  MANU vs. GSW   \n",
       "19581              Center(C)  ...  Less Than 8 ft.  MANU vs. PHX   \n",
       "19582              Center(C)  ...  Less Than 8 ft.  MANU vs. PHX   \n",
       "19583          Right Side(R)  ...         8-16 ft.  MANU vs. PHX   \n",
       "19584              Center(C)  ...  Less Than 8 ft.  MANU vs. PHX   \n",
       "19585  Right Side Center(RC)  ...        16-24 ft.  MANU vs. PHX   \n",
       "19586              Center(C)  ...         8-16 ft.    MANU @ SAC   \n",
       "19587           Left Side(L)  ...         8-16 ft.  MANU vs. PHX   \n",
       "19588   Left Side Center(LC)  ...        16-24 ft.  MANU vs. PHX   \n",
       "19589              Center(C)  ...  Less Than 8 ft.  MANU vs. PHX   \n",
       "19590              Center(C)  ...  Less Than 8 ft.  MANU vs. PHX   \n",
       "19591   Left Side Center(LC)  ...          24+ ft.  MANU vs. PHX   \n",
       "19592  Right Side Center(RC)  ...        16-24 ft.    MANU @ SAC   \n",
       "19593   Left Side Center(LC)  ...        16-24 ft.    MANU @ SAC   \n",
       "19594              Center(C)  ...         8-16 ft.    MANU @ SAC   \n",
       "19595          Right Side(R)  ...         8-16 ft.    MANU @ SAC   \n",
       "19596              Center(C)  ...  Less Than 8 ft.    MANU @ SAC   \n",
       "19597              Center(C)  ...          24+ ft.    MANU @ SAC   \n",
       "19598          Right Side(R)  ...         8-16 ft.    MANU @ SAC   \n",
       "19599           Left Side(L)  ...        16-24 ft.    MANU @ SAC   \n",
       "19600              Center(C)  ...  Less Than 8 ft.    MANU @ SAC   \n",
       "19601           Left Side(L)  ...  Less Than 8 ft.    MANU @ SAC   \n",
       "19602              Center(C)  ...  Less Than 8 ft.    MANU @ SAC   \n",
       "19603              Center(C)  ...  Less Than 8 ft.    MANU @ SAC   \n",
       "\n",
       "                      lat/lng type_of_shot type_of_combined_shot  \\\n",
       "0      45.539131, -122.651648    shot - 45              shot - 3   \n",
       "1      45.539131, -122.651648    shot - 25              shot - 3   \n",
       "2      45.539131, -122.651648    shot - 39              shot - 3   \n",
       "3      45.539131, -122.651648    shot - 39              shot - 1   \n",
       "4      45.539131, -122.651648    shot - 17              shot - 3   \n",
       "5      45.539131, -122.651648    shot - 39              shot - 4   \n",
       "6      45.539131, -122.651648    shot - 36              shot - 3   \n",
       "7      45.539131, -122.651648    shot - 44              shot - 3   \n",
       "8       42.982923, -71.446094    shot - 39              shot - 3   \n",
       "9       42.982923, -71.446094    shot - 44              shot - 3   \n",
       "10      42.982923, -71.446094    shot - 39              shot - 3   \n",
       "11      42.982923, -71.446094    shot - 12              shot - 3   \n",
       "12      42.982923, -71.446094    shot - 39              shot - 3   \n",
       "13      42.982923, -71.446094     shot - 6              shot - 3   \n",
       "14      42.982923, -71.446094    shot - 39              shot - 3   \n",
       "15      42.982923, -71.446094    shot - 20              shot - 3   \n",
       "16      42.982923, -71.446094    shot - 44              shot - 3   \n",
       "17      42.982923, -71.446094    shot - 39              shot - 3   \n",
       "18      42.982923, -71.446094    shot - 39              shot - 3   \n",
       "19      42.982923, -71.446094    shot - 39              shot - 4   \n",
       "20      42.982923, -71.446094    shot - 30              shot - 3   \n",
       "21      42.982923, -71.446094    shot - 54              shot - 3   \n",
       "22      42.982923, -71.446094    shot - 39              shot - 3   \n",
       "23      42.982923, -71.446094    shot - 42              shot - 3   \n",
       "24      42.982923, -71.446094    shot - 44              shot - 3   \n",
       "25      42.982923, -71.446094    shot - 39              shot - 3   \n",
       "26     49.250068, -123.114646    shot - 39              shot - 3   \n",
       "27     49.250068, -123.114646    shot - 39              shot - 3   \n",
       "28     49.250068, -123.114646    shot - 39              shot - 3   \n",
       "29      42.982923, -71.446094    shot - 39              shot - 3   \n",
       "...                       ...          ...                   ...   \n",
       "19574   42.982923, -71.446094    shot - 12              shot - 3   \n",
       "19575   42.982923, -71.446094    shot - 39              shot - 3   \n",
       "19576   42.982923, -71.446094    shot - 39              shot - 3   \n",
       "19577   42.982923, -71.446094    shot - 39              shot - 3   \n",
       "19578   42.982923, -71.446094    shot - 39              shot - 4   \n",
       "19579   42.982923, -71.446094    shot - 35              shot - 3   \n",
       "19580   42.982923, -71.446094    shot - 39              shot - 3   \n",
       "19581   42.982923, -71.446094    shot - 39              shot - 1   \n",
       "19582   42.982923, -71.446094    shot - 39              shot - 4   \n",
       "19583   42.982923, -71.446094    shot - 55              shot - 3   \n",
       "19584   42.982923, -71.446094     shot - 4              shot - 3   \n",
       "19585   42.982923, -71.446094     shot - 6              shot - 3   \n",
       "19586   42.982923, -71.446094    shot - 39              shot - 3   \n",
       "19587   42.982923, -71.446094    shot - 49              shot - 3   \n",
       "19588   42.982923, -71.446094    shot - 51              shot - 3   \n",
       "19589   42.982923, -71.446094    shot - 39              shot - 3   \n",
       "19590   42.982923, -71.446094    shot - 39              shot - 4   \n",
       "19591   42.982923, -71.446094    shot - 39              shot - 3   \n",
       "19592  38.567296, -121.456638    shot - 39              shot - 3   \n",
       "19593  38.567296, -121.456638    shot - 24              shot - 3   \n",
       "19594  38.567296, -121.456638    shot - 39              shot - 3   \n",
       "19595  38.567296, -121.456638    shot - 39              shot - 3   \n",
       "19596  38.567296, -121.456638    shot - 39              shot - 4   \n",
       "19597  38.567296, -121.456638    shot - 14              shot - 3   \n",
       "19598  38.567296, -121.456638     shot - 3              shot - 3   \n",
       "19599  38.567296, -121.456638    shot - 39              shot - 3   \n",
       "19600  38.567296, -121.456638    shot - 39              shot - 5   \n",
       "19601  38.567296, -121.456638    shot - 56              shot - 3   \n",
       "19602  38.567296, -121.456638    shot - 39              shot - 4   \n",
       "19603   42.982923, -71.446094    shot - 39              shot - 4   \n",
       "\n",
       "      remaining_min.1  power_of_shot.1  knockout_match.1  remaining_sec.1  \\\n",
       "0             10.0000             1.00            28.800          22.0000   \n",
       "1             92.6400             1.00             0.000          63.7216   \n",
       "2              0.0000             1.00           122.608          52.0000   \n",
       "3             42.6400             2.00             0.000          19.0000   \n",
       "4              9.0000             3.00             0.000           0.0000   \n",
       "5              8.0000             3.00             0.000         112.2000   \n",
       "6              6.0000             3.00             0.000          12.0000   \n",
       "7              3.0000             3.00             0.000          52.2000   \n",
       "8             11.0000             1.00           106.608          64.7856   \n",
       "9              7.0000            77.36             0.000           9.0000   \n",
       "10             2.0000            68.36             0.000          44.0000   \n",
       "11             1.0000             1.00             0.000          16.0000   \n",
       "12            94.6400            70.36             0.000          70.7856   \n",
       "13            38.6400             2.00             0.000          50.0000   \n",
       "14            11.0000             3.00             0.000          29.0000   \n",
       "15            10.0000             3.00             0.000           8.0000   \n",
       "16             7.0000             3.00             0.000          57.0000   \n",
       "17             5.0000             3.00             0.000          47.0000   \n",
       "18             5.0000             3.00             0.000          25.2000   \n",
       "19            93.6400             3.00             0.000          36.0000   \n",
       "20             2.0000            83.36             0.000          63.7856   \n",
       "21             0.0000             3.00             0.000          30.0000   \n",
       "22             8.0000             4.00            61.928          19.0000   \n",
       "23            73.6400             4.00             0.000          22.0000   \n",
       "24             1.0000             4.00             0.000          66.2000   \n",
       "25             0.0000             4.00             0.000          30.0000   \n",
       "26             3.0000             2.00             0.000          30.0000   \n",
       "27            75.6400             2.00             0.000           4.0000   \n",
       "28            11.0000            66.36            36.928          12.0000   \n",
       "29            36.6400             3.00             0.000          13.0000   \n",
       "...               ...              ...               ...              ...   \n",
       "19574          1.0000             1.00             0.000         107.7856   \n",
       "19575         69.6400             1.00             0.000          51.0000   \n",
       "19576         11.0000             2.00             0.000          28.0000   \n",
       "19577         10.0000             2.00             0.000          24.0000   \n",
       "19578          6.0000             3.00             0.000          47.0000   \n",
       "19579          5.0000             3.00             0.000           4.0000   \n",
       "19580          4.0000             3.00             0.000          10.0000   \n",
       "19581         11.0000             1.00             0.000          48.0000   \n",
       "19582         34.6400             1.00             0.000          23.0000   \n",
       "19583         10.0000             2.00            74.928          92.2000   \n",
       "19584          8.0000             2.00             0.000          27.0000   \n",
       "19585          7.0000             2.00             0.000          34.0000   \n",
       "19586         46.2000             2.00             0.000          37.0000   \n",
       "19587          4.0000            23.36             0.000           2.0000   \n",
       "19588          0.0000             2.00             0.000           1.0000   \n",
       "19589          9.0000             3.00             0.000          18.0000   \n",
       "19590          7.0000             3.00            75.800          24.0000   \n",
       "19591          0.0000             3.00            25.800         110.7856   \n",
       "19592         10.0000           108.36             0.000          40.2000   \n",
       "19593          7.0000            93.36             0.000         110.7856   \n",
       "19594          6.0000             3.00             0.000          24.0000   \n",
       "19595          1.0000             1.00             0.000          64.2000   \n",
       "19596          1.0000             1.00             0.000          25.0000   \n",
       "19597          0.0000             1.00            26.800          36.0000   \n",
       "19598         23.6400             1.00             0.000           0.0000   \n",
       "19599         10.0000             2.00             0.000          41.0000   \n",
       "19600         38.7616            41.36           119.928          71.7856   \n",
       "19601         23.6400             2.00             0.000          34.0000   \n",
       "19602          2.0000             2.00            49.928           0.0000   \n",
       "19603        106.7616             3.00             0.000          42.0000   \n",
       "\n",
       "       distance_of_shot.1  \n",
       "0                    35.0  \n",
       "1                    54.4  \n",
       "2                    42.0  \n",
       "3                    20.0  \n",
       "4                    34.0  \n",
       "5                    89.4  \n",
       "6                    32.0  \n",
       "7                    20.0  \n",
       "8                    16.4  \n",
       "9                    32.0  \n",
       "10                   29.0  \n",
       "11                   25.0  \n",
       "12                   40.0  \n",
       "13                   20.0  \n",
       "14                  106.4  \n",
       "15                   34.0  \n",
       "16                   31.0  \n",
       "17                   38.0  \n",
       "18                   27.0  \n",
       "19                   20.0  \n",
       "20                   40.0  \n",
       "21                   53.4  \n",
       "22                   18.4  \n",
       "23                   28.0  \n",
       "24                   32.0  \n",
       "25                   38.4  \n",
       "26                   40.0  \n",
       "27                   47.0  \n",
       "28                   57.4  \n",
       "29                   20.0  \n",
       "...                   ...  \n",
       "19574               103.4  \n",
       "19575                45.0  \n",
       "19576                31.0  \n",
       "19577                32.0  \n",
       "19578                20.0  \n",
       "19579                20.0  \n",
       "19580                47.0  \n",
       "19581                20.0  \n",
       "19582                20.0  \n",
       "19583                35.0  \n",
       "19584                19.4  \n",
       "19585                38.0  \n",
       "19586                30.0  \n",
       "19587                32.0  \n",
       "19588                40.0  \n",
       "19589                20.0  \n",
       "19590                20.0  \n",
       "19591                20.0  \n",
       "19592                36.0  \n",
       "19593                39.0  \n",
       "19594                34.0  \n",
       "19595                35.0  \n",
       "19596                20.0  \n",
       "19597                44.0  \n",
       "19598                29.0  \n",
       "19599                40.0  \n",
       "19600                95.4  \n",
       "19601                36.0  \n",
       "19602                20.0  \n",
       "19603                20.0  \n",
       "\n",
       "[19604 rows x 21 columns]"
      ]
     },
     "execution_count": 53,
     "metadata": {},
     "output_type": "execute_result"
    }
   ],
   "source": [
    "dataset"
   ]
  },
  {
   "cell_type": "code",
   "execution_count": 54,
   "metadata": {},
   "outputs": [
    {
     "data": {
      "text/plain": [
       "location_x               0\n",
       "location_y               0\n",
       "remaining_min            0\n",
       "power_of_shot            0\n",
       "knockout_match           0\n",
       "game_season              0\n",
       "remaining_sec            0\n",
       "distance_of_shot         0\n",
       "is_goal                  0\n",
       "area_of_shot             0\n",
       "shot_basics              0\n",
       "range_of_shot            0\n",
       "home/away                0\n",
       "lat/lng                  0\n",
       "type_of_shot             0\n",
       "type_of_combined_shot    0\n",
       "remaining_min.1          0\n",
       "power_of_shot.1          0\n",
       "knockout_match.1         0\n",
       "remaining_sec.1          0\n",
       "distance_of_shot.1       0\n",
       "dtype: int64"
      ]
     },
     "execution_count": 54,
     "metadata": {},
     "output_type": "execute_result"
    }
   ],
   "source": [
    "dataset.isnull().sum()"
   ]
  },
  {
   "cell_type": "code",
   "execution_count": 55,
   "metadata": {},
   "outputs": [],
   "source": [
    "dataset[\"remaining_min\"]=(dataset[\"remaining_min\"]+dataset[\"remaining_min.1\"])/2"
   ]
  },
  {
   "cell_type": "code",
   "execution_count": 56,
   "metadata": {},
   "outputs": [],
   "source": [
    "dataset.drop([\"remaining_min.1\"],axis=1,inplace=True)"
   ]
  },
  {
   "cell_type": "code",
   "execution_count": 57,
   "metadata": {},
   "outputs": [],
   "source": [
    "dataset[\"power_of_shot\"]=(dataset[\"power_of_shot\"]+dataset[\"power_of_shot.1\"])/2\n",
    "dataset.drop([\"power_of_shot.1\"],axis=1,inplace=True)"
   ]
  },
  {
   "cell_type": "code",
   "execution_count": 58,
   "metadata": {},
   "outputs": [],
   "source": [
    "dataset[\"knockout_match\"]=(dataset[\"knockout_match\"]+dataset[\"knockout_match.1\"])/2\n",
    "dataset.drop([\"knockout_match.1\"],axis=1,inplace=True)"
   ]
  },
  {
   "cell_type": "code",
   "execution_count": 59,
   "metadata": {},
   "outputs": [],
   "source": [
    "dataset[\"remaining_sec\"]=(dataset[\"remaining_sec\"]+dataset[\"remaining_sec.1\"])/2\n",
    "dataset.drop([\"remaining_sec.1\"],axis=1,inplace=True)"
   ]
  },
  {
   "cell_type": "code",
   "execution_count": 60,
   "metadata": {},
   "outputs": [],
   "source": [
    "dataset[\"distance_of_shot\"]=(dataset[\"distance_of_shot\"]+dataset[\"distance_of_shot.1\"])/2\n",
    "dataset.drop([\"distance_of_shot.1\"],axis=1,inplace=True)"
   ]
  },
  {
   "cell_type": "code",
   "execution_count": 61,
   "metadata": {},
   "outputs": [
    {
     "data": {
      "text/plain": [
       "location_x               0\n",
       "location_y               0\n",
       "remaining_min            0\n",
       "power_of_shot            0\n",
       "knockout_match           0\n",
       "game_season              0\n",
       "remaining_sec            0\n",
       "distance_of_shot         0\n",
       "is_goal                  0\n",
       "area_of_shot             0\n",
       "shot_basics              0\n",
       "range_of_shot            0\n",
       "home/away                0\n",
       "lat/lng                  0\n",
       "type_of_shot             0\n",
       "type_of_combined_shot    0\n",
       "dtype: int64"
      ]
     },
     "execution_count": 61,
     "metadata": {},
     "output_type": "execute_result"
    }
   ],
   "source": [
    "dataset.isnull().sum()"
   ]
  },
  {
   "cell_type": "code",
   "execution_count": 62,
   "metadata": {},
   "outputs": [],
   "source": [
    "tpp=dataset[\"is_goal\"]"
   ]
  },
  {
   "cell_type": "code",
   "execution_count": 63,
   "metadata": {},
   "outputs": [],
   "source": [
    "dataset.drop([\"is_goal\"],axis=1,inplace=True)"
   ]
  },
  {
   "cell_type": "code",
   "execution_count": 64,
   "metadata": {},
   "outputs": [],
   "source": [
    "dataset[\"is_goal\"]=tpp"
   ]
  },
  {
   "cell_type": "code",
   "execution_count": 65,
   "metadata": {},
   "outputs": [
    {
     "data": {
      "text/plain": [
       "location_x               0\n",
       "location_y               0\n",
       "remaining_min            0\n",
       "power_of_shot            0\n",
       "knockout_match           0\n",
       "game_season              0\n",
       "remaining_sec            0\n",
       "distance_of_shot         0\n",
       "area_of_shot             0\n",
       "shot_basics              0\n",
       "range_of_shot            0\n",
       "home/away                0\n",
       "lat/lng                  0\n",
       "type_of_shot             0\n",
       "type_of_combined_shot    0\n",
       "is_goal                  0\n",
       "dtype: int64"
      ]
     },
     "execution_count": 65,
     "metadata": {},
     "output_type": "execute_result"
    }
   ],
   "source": [
    "dataset.isnull().sum()"
   ]
  },
  {
   "cell_type": "code",
   "execution_count": 66,
   "metadata": {},
   "outputs": [],
   "source": [
    "ttt=dataset[\"game_season\"]\n",
    "dataset.drop([\"game_season\"],axis=1,inplace=True)\n",
    "dataset[\"game_season\"]=ttt"
   ]
  },
  {
   "cell_type": "code",
   "execution_count": 67,
   "metadata": {},
   "outputs": [
    {
     "data": {
      "text/plain": [
       "location_x               0\n",
       "location_y               0\n",
       "remaining_min            0\n",
       "power_of_shot            0\n",
       "knockout_match           0\n",
       "remaining_sec            0\n",
       "distance_of_shot         0\n",
       "area_of_shot             0\n",
       "shot_basics              0\n",
       "range_of_shot            0\n",
       "home/away                0\n",
       "lat/lng                  0\n",
       "type_of_shot             0\n",
       "type_of_combined_shot    0\n",
       "is_goal                  0\n",
       "game_season              0\n",
       "dtype: int64"
      ]
     },
     "execution_count": 67,
     "metadata": {},
     "output_type": "execute_result"
    }
   ],
   "source": [
    "dataset.isnull().sum()"
   ]
  },
  {
   "cell_type": "code",
   "execution_count": 68,
   "metadata": {},
   "outputs": [],
   "source": [
    "ha=dataset[\"home/away\"]\n",
    "dataset.drop([\"home/away\"],axis=1,inplace=True)\n",
    "dataset[\"home/away\"]=ha\n",
    "laln=dataset[\"lat/lng\"]\n",
    "dataset.drop([\"lat/lng\"],axis=1,inplace=True)\n",
    "dataset[\"lat/lng\"]=laln\n",
    "ggss=dataset[\"game_season\"]\n",
    "dataset.drop([\"game_season\"],axis=1,inplace=True)\n",
    "dataset[\"game_season\"]=ggss\n",
    "iigg=dataset[\"is_goal\"]\n",
    "dataset.drop([\"is_goal\"],axis=1,inplace=True)\n",
    "dataset[\"is_goal\"]=iigg"
   ]
  },
  {
   "cell_type": "code",
   "execution_count": 69,
   "metadata": {},
   "outputs": [
    {
     "data": {
      "text/plain": [
       "location_x               0\n",
       "location_y               0\n",
       "remaining_min            0\n",
       "power_of_shot            0\n",
       "knockout_match           0\n",
       "remaining_sec            0\n",
       "distance_of_shot         0\n",
       "area_of_shot             0\n",
       "shot_basics              0\n",
       "range_of_shot            0\n",
       "type_of_shot             0\n",
       "type_of_combined_shot    0\n",
       "home/away                0\n",
       "lat/lng                  0\n",
       "game_season              0\n",
       "is_goal                  0\n",
       "dtype: int64"
      ]
     },
     "execution_count": 69,
     "metadata": {},
     "output_type": "execute_result"
    }
   ],
   "source": [
    "dataset.isnull().sum()"
   ]
  },
  {
   "cell_type": "code",
   "execution_count": 70,
   "metadata": {},
   "outputs": [],
   "source": [
    "dataset.to_csv(\"train_clean.csv\",index=False)"
   ]
  },
  {
   "cell_type": "code",
   "execution_count": 71,
   "metadata": {},
   "outputs": [],
   "source": [
    "dd=pd.read_csv(\"test.csv\")"
   ]
  },
  {
   "cell_type": "code",
   "execution_count": 72,
   "metadata": {},
   "outputs": [
    {
     "data": {
      "text/plain": [
       "match_event_id            189\n",
       "location_x                194\n",
       "location_y                189\n",
       "remaining_min             183\n",
       "power_of_shot             200\n",
       "knockout_match            200\n",
       "game_season               708\n",
       "remaining_sec             176\n",
       "distance_of_shot          171\n",
       "area_of_shot              173\n",
       "shot_basics               170\n",
       "range_of_shot             176\n",
       "team_name                 172\n",
       "date_of_game              181\n",
       "home/away                 160\n",
       "shot_id_number              0\n",
       "lat/lng                   167\n",
       "type_of_shot             1758\n",
       "type_of_combined_shot    1817\n",
       "match_id                    0\n",
       "team_id                     0\n",
       "remaining_min.1           164\n",
       "power_of_shot.1           163\n",
       "knockout_match.1          193\n",
       "remaining_sec.1           174\n",
       "distance_of_shot.1        163\n",
       "dtype: int64"
      ]
     },
     "execution_count": 72,
     "metadata": {},
     "output_type": "execute_result"
    }
   ],
   "source": [
    "dd.isnull().sum()"
   ]
  },
  {
   "cell_type": "code",
   "execution_count": 73,
   "metadata": {},
   "outputs": [
    {
     "name": "stdout",
     "output_type": "stream",
     "text": [
      "244.0\n",
      "-245.0\n",
      "5.3356994971901806\n",
      "11530.413012151092\n",
      "0    0.0\n",
      "dtype: float64\n"
     ]
    }
   ],
   "source": [
    "print(dd[\"location_x\"].max())\n",
    "print(dd[\"location_x\"].min())\n",
    "print(dd[\"location_x\"].mean())\n",
    "print(dd[\"location_x\"].var())\n",
    "print(dd[\"location_x\"].mode())"
   ]
  },
  {
   "cell_type": "code",
   "execution_count": 74,
   "metadata": {},
   "outputs": [],
   "source": [
    "dd[\"location_x\"]=dd[\"location_x\"].fillna(0.0)"
   ]
  },
  {
   "cell_type": "code",
   "execution_count": 75,
   "metadata": {},
   "outputs": [],
   "source": [
    "dd.drop([\"match_event_id\"],axis=1,inplace=True)"
   ]
  },
  {
   "cell_type": "code",
   "execution_count": 76,
   "metadata": {},
   "outputs": [],
   "source": [
    "dd.drop([\"team_name\"],axis=1,inplace=True)"
   ]
  },
  {
   "cell_type": "code",
   "execution_count": 77,
   "metadata": {},
   "outputs": [],
   "source": [
    "dd.drop([\"date_of_game\"],axis=1,inplace=True)"
   ]
  },
  {
   "cell_type": "code",
   "execution_count": 78,
   "metadata": {},
   "outputs": [],
   "source": [
    "dd.drop([\"match_id\"],axis=1,inplace=True)\n",
    "dd.drop([\"team_id\"],axis=1,inplace=True)"
   ]
  },
  {
   "cell_type": "code",
   "execution_count": 79,
   "metadata": {},
   "outputs": [
    {
     "data": {
      "text/plain": [
       "location_x                  0\n",
       "location_y                189\n",
       "remaining_min             183\n",
       "power_of_shot             200\n",
       "knockout_match            200\n",
       "game_season               708\n",
       "remaining_sec             176\n",
       "distance_of_shot          171\n",
       "area_of_shot              173\n",
       "shot_basics               170\n",
       "range_of_shot             176\n",
       "home/away                 160\n",
       "lat/lng                   167\n",
       "type_of_shot             1758\n",
       "type_of_combined_shot    1817\n",
       "remaining_min.1           164\n",
       "power_of_shot.1           163\n",
       "knockout_match.1          193\n",
       "remaining_sec.1           174\n",
       "distance_of_shot.1        163\n",
       "dtype: int64"
      ]
     },
     "execution_count": 79,
     "metadata": {},
     "output_type": "execute_result"
    }
   ],
   "source": [
    "dd.drop([\"shot_id_number\"],axis=1,inplace=True)\n",
    "dd.isnull().sum()"
   ]
  },
  {
   "cell_type": "code",
   "execution_count": 80,
   "metadata": {},
   "outputs": [
    {
     "name": "stdout",
     "output_type": "stream",
     "text": [
      "244.0\n",
      "-245.0\n",
      "5.046153846153846\n",
      "10905.9931126512\n",
      "0    0.0\n",
      "dtype: float64\n"
     ]
    }
   ],
   "source": [
    "print(dd[\"location_x\"].max())\n",
    "print(dd[\"location_x\"].min())\n",
    "print(dd[\"location_x\"].mean())\n",
    "print(dd[\"location_x\"].var())\n",
    "print(dd[\"location_x\"].mode())"
   ]
  },
  {
   "cell_type": "code",
   "execution_count": 81,
   "metadata": {},
   "outputs": [],
   "source": [
    "dd[\"location_x\"]=dd[\"location_x\"].fillna(0.0)"
   ]
  },
  {
   "cell_type": "code",
   "execution_count": 82,
   "metadata": {},
   "outputs": [
    {
     "name": "stdout",
     "output_type": "stream",
     "text": [
      "11.0\n",
      "0.0\n",
      "4.956073113207547\n",
      "12.195946592116757\n",
      "0    0.0\n",
      "dtype: float64\n"
     ]
    }
   ],
   "source": [
    "print(dd[\"remaining_min\"].max())\n",
    "print(dd[\"remaining_min\"].min())\n",
    "print(dd[\"remaining_min\"].mean())\n",
    "print(dd[\"remaining_min\"].var())\n",
    "print(dd[\"remaining_min\"].mode())"
   ]
  },
  {
   "cell_type": "code",
   "execution_count": 83,
   "metadata": {},
   "outputs": [],
   "source": [
    "dd[\"remaining_min\"]=dd[\"remaining_min\"].fillna(12.195)"
   ]
  },
  {
   "cell_type": "code",
   "execution_count": 84,
   "metadata": {},
   "outputs": [
    {
     "name": "stdout",
     "output_type": "stream",
     "text": [
      "5.0\n",
      "1.0\n",
      "2.5303703703703704\n",
      "1.3238402599398449\n",
      "0    3.0\n",
      "dtype: float64\n"
     ]
    }
   ],
   "source": [
    "print(dd[\"power_of_shot\"].max())\n",
    "print(dd[\"power_of_shot\"].min())\n",
    "print(dd[\"power_of_shot\"].mean())\n",
    "print(dd[\"power_of_shot\"].var())\n",
    "print(dd[\"power_of_shot\"].mode())"
   ]
  },
  {
   "cell_type": "code",
   "execution_count": 85,
   "metadata": {},
   "outputs": [],
   "source": [
    "dd[\"power_of_shot\"]=dd[\"power_of_shot\"].fillna(1.32)"
   ]
  },
  {
   "cell_type": "code",
   "execution_count": 86,
   "metadata": {},
   "outputs": [
    {
     "name": "stdout",
     "output_type": "stream",
     "text": [
      "1.0\n",
      "0.0\n",
      "0.9588148148148148\n",
      "0.03950066960855343\n",
      "0    1.0\n",
      "dtype: float64\n"
     ]
    }
   ],
   "source": [
    "print(dd[\"knockout_match\"].max())\n",
    "print(dd[\"knockout_match\"].min())\n",
    "print(dd[\"knockout_match\"].mean())\n",
    "print(dd[\"knockout_match\"].var())\n",
    "print(dd[\"knockout_match\"].mode())"
   ]
  },
  {
   "cell_type": "code",
   "execution_count": 87,
   "metadata": {},
   "outputs": [],
   "source": [
    "dd[\"knockout_match\"]=dd[\"knockout_match\"].fillna(0.958)"
   ]
  },
  {
   "cell_type": "code",
   "execution_count": 88,
   "metadata": {},
   "outputs": [
    {
     "name": "stdout",
     "output_type": "stream",
     "text": [
      "0    1999-00\n",
      "dtype: object\n"
     ]
    }
   ],
   "source": [
    "print(dd[\"game_season\"].mode())"
   ]
  },
  {
   "cell_type": "code",
   "execution_count": 89,
   "metadata": {},
   "outputs": [],
   "source": [
    "dd[\"game_season\"]=dd[\"game_season\"].fillna(\"1999-00\")"
   ]
  },
  {
   "cell_type": "code",
   "execution_count": 90,
   "metadata": {},
   "outputs": [
    {
     "name": "stdout",
     "output_type": "stream",
     "text": [
      "59.0\n",
      "0.0\n",
      "28.075022065313327\n",
      "307.6709444889185\n",
      "0    0.0\n",
      "dtype: float64\n"
     ]
    }
   ],
   "source": [
    "print(dd[\"remaining_sec\"].max())\n",
    "print(dd[\"remaining_sec\"].min())\n",
    "print(dd[\"remaining_sec\"].mean())\n",
    "print(dd[\"remaining_sec\"].var())\n",
    "print(dd[\"remaining_sec\"].mode())"
   ]
  },
  {
   "cell_type": "code",
   "execution_count": 91,
   "metadata": {},
   "outputs": [],
   "source": [
    "dd[\"remaining_sec\"]=dd[\"remaining_sec\"].fillna(0.0)"
   ]
  },
  {
   "cell_type": "code",
   "execution_count": 92,
   "metadata": {},
   "outputs": [
    {
     "name": "stdout",
     "output_type": "stream",
     "text": [
      "99.0\n",
      "20.0\n",
      "33.21357226792009\n",
      "88.38017424661241\n",
      "0    20.0\n",
      "dtype: float64\n"
     ]
    }
   ],
   "source": [
    "print(dd[\"distance_of_shot\"].max())\n",
    "print(dd[\"distance_of_shot\"].min())\n",
    "print(dd[\"distance_of_shot\"].mean())\n",
    "print(dd[\"distance_of_shot\"].var())\n",
    "print(dd[\"distance_of_shot\"].mode())"
   ]
  },
  {
   "cell_type": "code",
   "execution_count": 93,
   "metadata": {},
   "outputs": [],
   "source": [
    "dd[\"distance_of_shot\"]=dd[\"distance_of_shot\"].fillna(20.0)"
   ]
  },
  {
   "cell_type": "code",
   "execution_count": 94,
   "metadata": {},
   "outputs": [
    {
     "name": "stdout",
     "output_type": "stream",
     "text": [
      "0    Center(C)\n",
      "dtype: object\n"
     ]
    }
   ],
   "source": [
    "print(dd[\"area_of_shot\"].mode())"
   ]
  },
  {
   "cell_type": "code",
   "execution_count": 95,
   "metadata": {},
   "outputs": [],
   "source": [
    "dd[\"area_of_shot\"]=dd[\"area_of_shot\"].fillna(\"Center(C)\")"
   ]
  },
  {
   "cell_type": "code",
   "execution_count": 96,
   "metadata": {},
   "outputs": [
    {
     "name": "stdout",
     "output_type": "stream",
     "text": [
      "0    Mid Range\n",
      "dtype: object\n"
     ]
    }
   ],
   "source": [
    "print(dd[\"shot_basics\"].mode())"
   ]
  },
  {
   "cell_type": "code",
   "execution_count": 97,
   "metadata": {},
   "outputs": [],
   "source": [
    "dd[\"shot_basics\"]=dd[\"shot_basics\"].fillna(\"Mid Range\")"
   ]
  },
  {
   "cell_type": "code",
   "execution_count": 98,
   "metadata": {},
   "outputs": [
    {
     "name": "stdout",
     "output_type": "stream",
     "text": [
      "0    Less Than 8 ft.\n",
      "dtype: object\n"
     ]
    }
   ],
   "source": [
    "\n",
    "print(dd[\"range_of_shot\"].mode())"
   ]
  },
  {
   "cell_type": "code",
   "execution_count": 99,
   "metadata": {},
   "outputs": [],
   "source": [
    "dd[\"range_of_shot\"]=dd[\"range_of_shot\"].fillna(\"Less Than 8 ft.\")"
   ]
  },
  {
   "cell_type": "code",
   "execution_count": 100,
   "metadata": {},
   "outputs": [
    {
     "name": "stdout",
     "output_type": "stream",
     "text": [
      "0    MANU @ SAS\n",
      "dtype: object\n"
     ]
    }
   ],
   "source": [
    "print(dd[\"home/away\"].mode())"
   ]
  },
  {
   "cell_type": "code",
   "execution_count": 101,
   "metadata": {},
   "outputs": [],
   "source": [
    "dd[\"home/away\"]=dd[\"home/away\"].fillna(\"MANU @ SAS\")"
   ]
  },
  {
   "cell_type": "code",
   "execution_count": 102,
   "metadata": {},
   "outputs": [
    {
     "name": "stdout",
     "output_type": "stream",
     "text": [
      "0    42.982923, -71.446094\n",
      "dtype: object\n"
     ]
    }
   ],
   "source": [
    "print(dd[\"lat/lng\"].mode())"
   ]
  },
  {
   "cell_type": "code",
   "execution_count": 103,
   "metadata": {},
   "outputs": [],
   "source": [
    "dd[\"lat/lng\"]=dd[\"lat/lng\"].fillna(\"42.982923, -71.446094\")"
   ]
  },
  {
   "cell_type": "code",
   "execution_count": 104,
   "metadata": {},
   "outputs": [
    {
     "name": "stdout",
     "output_type": "stream",
     "text": [
      "0    shot - 39\n",
      "dtype: object\n"
     ]
    }
   ],
   "source": [
    "print(dd[\"type_of_shot\"].mode())"
   ]
  },
  {
   "cell_type": "code",
   "execution_count": 105,
   "metadata": {},
   "outputs": [],
   "source": [
    "dd[\"type_of_shot\"]=dd[\"type_of_shot\"].fillna(\"shot - 39\")"
   ]
  },
  {
   "cell_type": "code",
   "execution_count": 106,
   "metadata": {},
   "outputs": [
    {
     "name": "stdout",
     "output_type": "stream",
     "text": [
      "0    shot - 3\n",
      "dtype: object\n"
     ]
    }
   ],
   "source": [
    "print(dd[\"type_of_combined_shot\"].mode())"
   ]
  },
  {
   "cell_type": "code",
   "execution_count": 107,
   "metadata": {},
   "outputs": [],
   "source": [
    "dd[\"type_of_combined_shot\"]=dd[\"type_of_combined_shot\"].fillna(\"shot - 3\")"
   ]
  },
  {
   "cell_type": "code",
   "execution_count": 108,
   "metadata": {},
   "outputs": [
    {
     "name": "stdout",
     "output_type": "stream",
     "text": [
      "119.64\n",
      "0.0\n",
      "18.87421870419232\n",
      "886.4368989023011\n",
      "0    0.0\n",
      "dtype: float64\n"
     ]
    }
   ],
   "source": [
    "print(dd[\"remaining_min.1\"].max())\n",
    "print(dd[\"remaining_min.1\"].min())\n",
    "print(dd[\"remaining_min.1\"].mean())\n",
    "print(dd[\"remaining_min.1\"].var())\n",
    "print(dd[\"remaining_min.1\"].mode())"
   ]
  },
  {
   "cell_type": "code",
   "execution_count": 109,
   "metadata": {},
   "outputs": [],
   "source": [
    "dd[\"remaining_min.1\"]=dd[\"remaining_min.1\"].fillna(0.0)"
   ]
  },
  {
   "cell_type": "code",
   "execution_count": 110,
   "metadata": {},
   "outputs": [
    {
     "name": "stdout",
     "output_type": "stream",
     "text": [
      "118.36\n",
      "1.0\n",
      "16.354607268464243\n",
      "895.4706106050247\n",
      "0    1.0\n",
      "dtype: float64\n"
     ]
    }
   ],
   "source": [
    "print(dd[\"power_of_shot.1\"].max())\n",
    "print(dd[\"power_of_shot.1\"].min())\n",
    "print(dd[\"power_of_shot.1\"].mean())\n",
    "print(dd[\"power_of_shot.1\"].var())\n",
    "print(dd[\"power_of_shot.1\"].mode())"
   ]
  },
  {
   "cell_type": "code",
   "execution_count": 111,
   "metadata": {},
   "outputs": [],
   "source": [
    "dd[\"power_of_shot.1\"]=dd[\"power_of_shot.1\"].fillna(1.0)"
   ]
  },
  {
   "cell_type": "code",
   "execution_count": 112,
   "metadata": {},
   "outputs": [
    {
     "name": "stdout",
     "output_type": "stream",
     "text": [
      "137.608\n",
      "0.0\n",
      "17.3878101951508\n",
      "1220.4108590412145\n",
      "0    1.0\n",
      "dtype: float64\n"
     ]
    }
   ],
   "source": [
    "print(dd[\"knockout_match.1\"].max())\n",
    "print(dd[\"knockout_match.1\"].min())\n",
    "print(dd[\"knockout_match.1\"].mean())\n",
    "print(dd[\"knockout_match.1\"].var())\n",
    "print(dd[\"knockout_match.1\"].mode())"
   ]
  },
  {
   "cell_type": "code",
   "execution_count": 113,
   "metadata": {},
   "outputs": [],
   "source": [
    "dd[\"knockout_match.1\"]=dd[\"knockout_match.1\"].fillna(1.0)"
   ]
  },
  {
   "cell_type": "code",
   "execution_count": 114,
   "metadata": {},
   "outputs": [
    {
     "name": "stdout",
     "output_type": "stream",
     "text": [
      "144.7856\n",
      "0.0\n",
      "38.88159623640106\n",
      "888.180587556127\n",
      "0    0.0\n",
      "dtype: float64\n"
     ]
    }
   ],
   "source": [
    "print(dd[\"remaining_sec.1\"].max())\n",
    "print(dd[\"remaining_sec.1\"].min())\n",
    "print(dd[\"remaining_sec.1\"].mean())\n",
    "print(dd[\"remaining_sec.1\"].var())\n",
    "print(dd[\"remaining_sec.1\"].mode())"
   ]
  },
  {
   "cell_type": "code",
   "execution_count": 115,
   "metadata": {},
   "outputs": [],
   "source": [
    "dd[\"remaining_sec.1\"]=dd[\"remaining_sec.1\"].fillna(0.0)"
   ]
  },
  {
   "cell_type": "code",
   "execution_count": 116,
   "metadata": {},
   "outputs": [
    {
     "name": "stdout",
     "output_type": "stream",
     "text": [
      "115.728\n",
      "9.4\n",
      "38.75886518171161\n",
      "366.47650893872293\n",
      "0    20.0\n",
      "dtype: float64\n"
     ]
    }
   ],
   "source": [
    "print(dd[\"distance_of_shot.1\"].max())\n",
    "print(dd[\"distance_of_shot.1\"].min())\n",
    "print(dd[\"distance_of_shot.1\"].mean())\n",
    "print(dd[\"distance_of_shot.1\"].var())\n",
    "print(dd[\"distance_of_shot.1\"].mode())"
   ]
  },
  {
   "cell_type": "code",
   "execution_count": 117,
   "metadata": {},
   "outputs": [],
   "source": [
    "dd[\"distance_of_shot.1\"]=dd[\"distance_of_shot.1\"].fillna(20.0)"
   ]
  },
  {
   "cell_type": "code",
   "execution_count": 118,
   "metadata": {},
   "outputs": [
    {
     "data": {
      "text/plain": [
       "location_x                 0\n",
       "location_y               189\n",
       "remaining_min              0\n",
       "power_of_shot              0\n",
       "knockout_match             0\n",
       "game_season                0\n",
       "remaining_sec              0\n",
       "distance_of_shot           0\n",
       "area_of_shot               0\n",
       "shot_basics                0\n",
       "range_of_shot              0\n",
       "home/away                  0\n",
       "lat/lng                    0\n",
       "type_of_shot               0\n",
       "type_of_combined_shot      0\n",
       "remaining_min.1            0\n",
       "power_of_shot.1            0\n",
       "knockout_match.1           0\n",
       "remaining_sec.1            0\n",
       "distance_of_shot.1         0\n",
       "dtype: int64"
      ]
     },
     "execution_count": 118,
     "metadata": {},
     "output_type": "execute_result"
    }
   ],
   "source": [
    "dd.isnull().sum()"
   ]
  },
  {
   "cell_type": "code",
   "execution_count": 119,
   "metadata": {},
   "outputs": [
    {
     "name": "stdout",
     "output_type": "stream",
     "text": [
      "791.0\n",
      "-42.0\n",
      "91.19728292971057\n",
      "8119.702870015643\n",
      "0    0.0\n",
      "dtype: float64\n"
     ]
    }
   ],
   "source": [
    "print(dd[\"location_y\"].max())\n",
    "print(dd[\"location_y\"].min())\n",
    "print(dd[\"location_y\"].mean())\n",
    "print(dd[\"location_y\"].var())\n",
    "print(dd[\"location_y\"].mode())"
   ]
  },
  {
   "cell_type": "code",
   "execution_count": 120,
   "metadata": {},
   "outputs": [],
   "source": [
    "dd[\"location_y\"]=dd[\"location_y\"].fillna(0.0)"
   ]
  },
  {
   "cell_type": "code",
   "execution_count": 121,
   "metadata": {},
   "outputs": [
    {
     "data": {
      "text/plain": [
       "location_x               0\n",
       "location_y               0\n",
       "remaining_min            0\n",
       "power_of_shot            0\n",
       "knockout_match           0\n",
       "game_season              0\n",
       "remaining_sec            0\n",
       "distance_of_shot         0\n",
       "area_of_shot             0\n",
       "shot_basics              0\n",
       "range_of_shot            0\n",
       "home/away                0\n",
       "lat/lng                  0\n",
       "type_of_shot             0\n",
       "type_of_combined_shot    0\n",
       "remaining_min.1          0\n",
       "power_of_shot.1          0\n",
       "knockout_match.1         0\n",
       "remaining_sec.1          0\n",
       "distance_of_shot.1       0\n",
       "dtype: int64"
      ]
     },
     "execution_count": 121,
     "metadata": {},
     "output_type": "execute_result"
    }
   ],
   "source": [
    "dd.isna().sum()"
   ]
  },
  {
   "cell_type": "code",
   "execution_count": 122,
   "metadata": {},
   "outputs": [],
   "source": [
    "dd[\"remaining_min\"]=(dd[\"remaining_min\"]+dd[\"remaining_min.1\"])/2\n",
    "dd.drop([\"remaining_min.1\"],axis=1,inplace=True)"
   ]
  },
  {
   "cell_type": "code",
   "execution_count": 123,
   "metadata": {},
   "outputs": [],
   "source": [
    "dd[\"power_of_shot\"]=(dd[\"power_of_shot\"]+dd[\"power_of_shot.1\"])/2\n",
    "dd.drop([\"power_of_shot.1\"],axis=1,inplace=True)"
   ]
  },
  {
   "cell_type": "code",
   "execution_count": 124,
   "metadata": {},
   "outputs": [],
   "source": [
    "dd[\"knockout_match\"]=(dd[\"knockout_match\"]+dd[\"knockout_match.1\"])/2\n",
    "dd.drop([\"knockout_match.1\"],axis=1,inplace=True)"
   ]
  },
  {
   "cell_type": "code",
   "execution_count": 125,
   "metadata": {},
   "outputs": [],
   "source": [
    "dd[\"remaining_sec\"]=(dd[\"remaining_sec\"]+dd[\"remaining_sec.1\"])/2\n",
    "dd.drop([\"remaining_sec.1\"],axis=1,inplace=True)"
   ]
  },
  {
   "cell_type": "code",
   "execution_count": 126,
   "metadata": {},
   "outputs": [],
   "source": [
    "dd[\"distance_of_shot\"]=(dd[\"distance_of_shot\"]+dd[\"distance_of_shot.1\"])/2\n",
    "dd.drop([\"distance_of_shot.1\"],axis=1,inplace=True)"
   ]
  },
  {
   "cell_type": "code",
   "execution_count": 127,
   "metadata": {},
   "outputs": [
    {
     "data": {
      "text/plain": [
       "location_x               0\n",
       "location_y               0\n",
       "remaining_min            0\n",
       "power_of_shot            0\n",
       "knockout_match           0\n",
       "game_season              0\n",
       "remaining_sec            0\n",
       "distance_of_shot         0\n",
       "area_of_shot             0\n",
       "shot_basics              0\n",
       "range_of_shot            0\n",
       "home/away                0\n",
       "lat/lng                  0\n",
       "type_of_shot             0\n",
       "type_of_combined_shot    0\n",
       "dtype: int64"
      ]
     },
     "execution_count": 127,
     "metadata": {},
     "output_type": "execute_result"
    }
   ],
   "source": [
    "dd.isnull().sum()"
   ]
  },
  {
   "cell_type": "code",
   "execution_count": 128,
   "metadata": {},
   "outputs": [
    {
     "data": {
      "text/plain": [
       "location_x               0\n",
       "location_y               0\n",
       "remaining_min            0\n",
       "power_of_shot            0\n",
       "knockout_match           0\n",
       "remaining_sec            0\n",
       "distance_of_shot         0\n",
       "area_of_shot             0\n",
       "shot_basics              0\n",
       "range_of_shot            0\n",
       "type_of_shot             0\n",
       "type_of_combined_shot    0\n",
       "home/away                0\n",
       "lat/lng                  0\n",
       "game_season              0\n",
       "is_goal                  0\n",
       "dtype: int64"
      ]
     },
     "execution_count": 128,
     "metadata": {},
     "output_type": "execute_result"
    }
   ],
   "source": [
    "dataset.isnull().sum()"
   ]
  },
  {
   "cell_type": "code",
   "execution_count": 129,
   "metadata": {},
   "outputs": [],
   "source": [
    "hoaw=dd[\"home/away\"]\n",
    "dd.drop([\"home/away\"],axis=1,inplace=True)\n",
    "dd[\"home/away\"]=hoaw\n",
    "lat=dd[\"lat/lng\"]\n",
    "dd.drop([\"lat/lng\"],axis=1,inplace=True)\n",
    "dd[\"lat/lng\"]=lat"
   ]
  },
  {
   "cell_type": "code",
   "execution_count": 130,
   "metadata": {},
   "outputs": [],
   "source": [
    "ggs=dd[\"game_season\"]\n",
    "dd.drop([\"game_season\"],axis=1,inplace=True)\n",
    "dd[\"game_season\"]=ggs"
   ]
  },
  {
   "cell_type": "code",
   "execution_count": 131,
   "metadata": {},
   "outputs": [
    {
     "data": {
      "text/plain": [
       "location_x               0\n",
       "location_y               0\n",
       "remaining_min            0\n",
       "power_of_shot            0\n",
       "knockout_match           0\n",
       "remaining_sec            0\n",
       "distance_of_shot         0\n",
       "area_of_shot             0\n",
       "shot_basics              0\n",
       "range_of_shot            0\n",
       "type_of_shot             0\n",
       "type_of_combined_shot    0\n",
       "home/away                0\n",
       "lat/lng                  0\n",
       "game_season              0\n",
       "dtype: int64"
      ]
     },
     "execution_count": 131,
     "metadata": {},
     "output_type": "execute_result"
    }
   ],
   "source": [
    "dd.isnull().sum()"
   ]
  },
  {
   "cell_type": "code",
   "execution_count": 132,
   "metadata": {},
   "outputs": [
    {
     "data": {
      "text/plain": [
       "location_x               0\n",
       "location_y               0\n",
       "remaining_min            0\n",
       "power_of_shot            0\n",
       "knockout_match           0\n",
       "remaining_sec            0\n",
       "distance_of_shot         0\n",
       "area_of_shot             0\n",
       "shot_basics              0\n",
       "range_of_shot            0\n",
       "type_of_shot             0\n",
       "type_of_combined_shot    0\n",
       "home/away                0\n",
       "lat/lng                  0\n",
       "game_season              0\n",
       "is_goal                  0\n",
       "dtype: int64"
      ]
     },
     "execution_count": 132,
     "metadata": {},
     "output_type": "execute_result"
    }
   ],
   "source": [
    "dataset.isnull().sum()"
   ]
  },
  {
   "cell_type": "code",
   "execution_count": 133,
   "metadata": {},
   "outputs": [],
   "source": [
    "dd.to_csv(\"test_clean.csv\",index=False)"
   ]
  },
  {
   "cell_type": "code",
   "execution_count": 134,
   "metadata": {},
   "outputs": [],
   "source": [
    "X_train=dataset.iloc[:,0:15]"
   ]
  },
  {
   "cell_type": "code",
   "execution_count": 135,
   "metadata": {},
   "outputs": [],
   "source": [
    "Y_train=dataset.iloc[:,15]"
   ]
  },
  {
   "cell_type": "code",
   "execution_count": 136,
   "metadata": {},
   "outputs": [],
   "source": [
    "X_train = np.array(X_train)\n",
    "Y_train = np.array(Y_train)"
   ]
  },
  {
   "cell_type": "code",
   "execution_count": 137,
   "metadata": {},
   "outputs": [],
   "source": [
    "X_test = np.array(dd)"
   ]
  },
  {
   "cell_type": "code",
   "execution_count": 138,
   "metadata": {},
   "outputs": [],
   "source": [
    "dataset.drop([\"is_goal\"],axis=1,inplace=True)\n",
    "big = pd.DataFrame()\n",
    "big=pd.concat([dataset,dd], axis=0)"
   ]
  },
  {
   "cell_type": "code",
   "execution_count": 139,
   "metadata": {},
   "outputs": [
    {
     "data": {
      "text/html": [
       "<div>\n",
       "<style scoped>\n",
       "    .dataframe tbody tr th:only-of-type {\n",
       "        vertical-align: middle;\n",
       "    }\n",
       "\n",
       "    .dataframe tbody tr th {\n",
       "        vertical-align: top;\n",
       "    }\n",
       "\n",
       "    .dataframe thead th {\n",
       "        text-align: right;\n",
       "    }\n",
       "</style>\n",
       "<table border=\"1\" class=\"dataframe\">\n",
       "  <thead>\n",
       "    <tr style=\"text-align: right;\">\n",
       "      <th></th>\n",
       "      <th>location_x</th>\n",
       "      <th>location_y</th>\n",
       "      <th>remaining_min</th>\n",
       "      <th>power_of_shot</th>\n",
       "      <th>knockout_match</th>\n",
       "      <th>remaining_sec</th>\n",
       "      <th>distance_of_shot</th>\n",
       "      <th>area_of_shot</th>\n",
       "      <th>shot_basics</th>\n",
       "      <th>range_of_shot</th>\n",
       "      <th>type_of_shot</th>\n",
       "      <th>type_of_combined_shot</th>\n",
       "      <th>home/away</th>\n",
       "      <th>lat/lng</th>\n",
       "      <th>game_season</th>\n",
       "    </tr>\n",
       "  </thead>\n",
       "  <tbody>\n",
       "    <tr>\n",
       "      <th>0</th>\n",
       "      <td>-157.0</td>\n",
       "      <td>0.0</td>\n",
       "      <td>10.000000</td>\n",
       "      <td>1.0</td>\n",
       "      <td>14.400</td>\n",
       "      <td>22.0000</td>\n",
       "      <td>35.0</td>\n",
       "      <td>Left Side(L)</td>\n",
       "      <td>Mid Range</td>\n",
       "      <td>8-16 ft.</td>\n",
       "      <td>shot - 45</td>\n",
       "      <td>shot - 3</td>\n",
       "      <td>MANU @ POR</td>\n",
       "      <td>45.539131, -122.651648</td>\n",
       "      <td>2000-01</td>\n",
       "    </tr>\n",
       "    <tr>\n",
       "      <th>1</th>\n",
       "      <td>-101.0</td>\n",
       "      <td>135.0</td>\n",
       "      <td>49.820000</td>\n",
       "      <td>1.0</td>\n",
       "      <td>0.000</td>\n",
       "      <td>54.3608</td>\n",
       "      <td>45.2</td>\n",
       "      <td>Left Side Center(LC)</td>\n",
       "      <td>Mid Range</td>\n",
       "      <td>16-24 ft.</td>\n",
       "      <td>shot - 25</td>\n",
       "      <td>shot - 3</td>\n",
       "      <td>MANU @ SAC</td>\n",
       "      <td>45.539131, -122.651648</td>\n",
       "      <td>2000-01</td>\n",
       "    </tr>\n",
       "    <tr>\n",
       "      <th>2</th>\n",
       "      <td>138.0</td>\n",
       "      <td>175.0</td>\n",
       "      <td>3.000000</td>\n",
       "      <td>1.0</td>\n",
       "      <td>61.304</td>\n",
       "      <td>52.0000</td>\n",
       "      <td>42.0</td>\n",
       "      <td>Right Side Center(RC)</td>\n",
       "      <td>Mid Range</td>\n",
       "      <td>16-24 ft.</td>\n",
       "      <td>shot - 39</td>\n",
       "      <td>shot - 3</td>\n",
       "      <td>MANU @ POR</td>\n",
       "      <td>45.539131, -122.651648</td>\n",
       "      <td>2000-01</td>\n",
       "    </tr>\n",
       "    <tr>\n",
       "      <th>3</th>\n",
       "      <td>0.0</td>\n",
       "      <td>0.0</td>\n",
       "      <td>23.752084</td>\n",
       "      <td>2.0</td>\n",
       "      <td>0.000</td>\n",
       "      <td>19.0000</td>\n",
       "      <td>20.0</td>\n",
       "      <td>Center(C)</td>\n",
       "      <td>Goal Area</td>\n",
       "      <td>Less Than 8 ft.</td>\n",
       "      <td>shot - 39</td>\n",
       "      <td>shot - 1</td>\n",
       "      <td>MANU @ POR</td>\n",
       "      <td>45.539131, -122.651648</td>\n",
       "      <td>2000-01</td>\n",
       "    </tr>\n",
       "    <tr>\n",
       "      <th>4</th>\n",
       "      <td>-145.0</td>\n",
       "      <td>-11.0</td>\n",
       "      <td>9.000000</td>\n",
       "      <td>3.0</td>\n",
       "      <td>0.000</td>\n",
       "      <td>16.0000</td>\n",
       "      <td>34.0</td>\n",
       "      <td>Left Side(L)</td>\n",
       "      <td>Mid Range</td>\n",
       "      <td>8-16 ft.</td>\n",
       "      <td>shot - 17</td>\n",
       "      <td>shot - 3</td>\n",
       "      <td>MANU @ POR</td>\n",
       "      <td>45.539131, -122.651648</td>\n",
       "      <td>2005-06</td>\n",
       "    </tr>\n",
       "  </tbody>\n",
       "</table>\n",
       "</div>"
      ],
      "text/plain": [
       "   location_x  location_y  remaining_min  power_of_shot  knockout_match  \\\n",
       "0      -157.0         0.0      10.000000            1.0          14.400   \n",
       "1      -101.0       135.0      49.820000            1.0           0.000   \n",
       "2       138.0       175.0       3.000000            1.0          61.304   \n",
       "3         0.0         0.0      23.752084            2.0           0.000   \n",
       "4      -145.0       -11.0       9.000000            3.0           0.000   \n",
       "\n",
       "   remaining_sec  distance_of_shot           area_of_shot shot_basics  \\\n",
       "0        22.0000              35.0           Left Side(L)   Mid Range   \n",
       "1        54.3608              45.2   Left Side Center(LC)   Mid Range   \n",
       "2        52.0000              42.0  Right Side Center(RC)   Mid Range   \n",
       "3        19.0000              20.0              Center(C)   Goal Area   \n",
       "4        16.0000              34.0           Left Side(L)   Mid Range   \n",
       "\n",
       "     range_of_shot type_of_shot type_of_combined_shot   home/away  \\\n",
       "0         8-16 ft.    shot - 45              shot - 3  MANU @ POR   \n",
       "1        16-24 ft.    shot - 25              shot - 3  MANU @ SAC   \n",
       "2        16-24 ft.    shot - 39              shot - 3  MANU @ POR   \n",
       "3  Less Than 8 ft.    shot - 39              shot - 1  MANU @ POR   \n",
       "4         8-16 ft.    shot - 17              shot - 3  MANU @ POR   \n",
       "\n",
       "                  lat/lng game_season  \n",
       "0  45.539131, -122.651648     2000-01  \n",
       "1  45.539131, -122.651648     2000-01  \n",
       "2  45.539131, -122.651648     2000-01  \n",
       "3  45.539131, -122.651648     2000-01  \n",
       "4  45.539131, -122.651648     2005-06  "
      ]
     },
     "execution_count": 139,
     "metadata": {},
     "output_type": "execute_result"
    }
   ],
   "source": [
    "big.head()"
   ]
  },
  {
   "cell_type": "code",
   "execution_count": 140,
   "metadata": {},
   "outputs": [
    {
     "data": {
      "text/plain": [
       "array([[-157.0, 0.0, 10.0, ..., 'MANU @ POR', '45.539131, -122.651648',\n",
       "        '2000-01'],\n",
       "       [-101.0, 135.0, 49.82, ..., 'MANU @ SAC',\n",
       "        '45.539131, -122.651648', '2000-01'],\n",
       "       [138.0, 175.0, 3.0, ..., 'MANU @ POR', '45.539131, -122.651648',\n",
       "        '2000-01'],\n",
       "       ...,\n",
       "       [-134.0, 166.0, 3.0, ..., 'MANU vs. IND', '42.982923, -71.446094',\n",
       "        '1999-00'],\n",
       "       [31.0, 267.0, 2.0, ..., 'MANU vs. IND', '42.982923, -71.446094',\n",
       "        '1999-00'],\n",
       "       [1.0, 0.0, 0.0, ..., 'MANU vs. IND', '42.982923, -71.446094',\n",
       "        '1999-00']], dtype=object)"
      ]
     },
     "execution_count": 140,
     "metadata": {},
     "output_type": "execute_result"
    }
   ],
   "source": [
    "X=big.iloc[:, 0:15].values\n",
    "X"
   ]
  },
  {
   "cell_type": "code",
   "execution_count": 141,
   "metadata": {},
   "outputs": [],
   "source": [
    "from sklearn.preprocessing import LabelEncoder, OneHotEncoder"
   ]
  },
  {
   "cell_type": "code",
   "execution_count": 142,
   "metadata": {},
   "outputs": [],
   "source": [
    "labelencoder_X_7 = LabelEncoder()\n",
    "labelencoder_X_8 = LabelEncoder()\n",
    "labelencoder_X_9 = LabelEncoder()\n",
    "labelencoder_X_10 = LabelEncoder()\n",
    "labelencoder_X_11 = LabelEncoder()\n",
    "labelencoder_X_12 = LabelEncoder()\n",
    "labelencoder_X_13 = LabelEncoder()\n",
    "labelencoder_X_14 = LabelEncoder()"
   ]
  },
  {
   "cell_type": "code",
   "execution_count": 143,
   "metadata": {},
   "outputs": [
    {
     "data": {
      "text/plain": [
       "array(['Left Side(L)', 'Left Side Center(LC)', 'Right Side Center(RC)',\n",
       "       ..., 'Left Side Center(LC)', 'Center(C)', 'Center(C)'],\n",
       "      dtype=object)"
      ]
     },
     "execution_count": 143,
     "metadata": {},
     "output_type": "execute_result"
    }
   ],
   "source": [
    "X[:,7]"
   ]
  },
  {
   "cell_type": "code",
   "execution_count": 144,
   "metadata": {},
   "outputs": [],
   "source": [
    "X[:, 7] = labelencoder_X_7.fit_transform(X[:, 7])\n",
    "X[:, 8] = labelencoder_X_8.fit_transform(X[:, 8])\n",
    "X[:, 9] = labelencoder_X_9.fit_transform(X[:, 9])\n",
    "X[:, 10] = labelencoder_X_10.fit_transform(X[:, 10])\n",
    "X[:, 11] = labelencoder_X_11.fit_transform(X[:, 11])\n",
    "X[:, 12] = labelencoder_X_12.fit_transform(X[:, 12])\n",
    "X[:, 13] = labelencoder_X_13.fit_transform(X[:, 13])\n",
    "X[:, 14] = labelencoder_X_14.fit_transform(X[:, 14])"
   ]
  },
  {
   "cell_type": "code",
   "execution_count": 145,
   "metadata": {},
   "outputs": [
    {
     "data": {
      "text/html": [
       "<div>\n",
       "<style scoped>\n",
       "    .dataframe tbody tr th:only-of-type {\n",
       "        vertical-align: middle;\n",
       "    }\n",
       "\n",
       "    .dataframe tbody tr th {\n",
       "        vertical-align: top;\n",
       "    }\n",
       "\n",
       "    .dataframe thead th {\n",
       "        text-align: right;\n",
       "    }\n",
       "</style>\n",
       "<table border=\"1\" class=\"dataframe\">\n",
       "  <thead>\n",
       "    <tr style=\"text-align: right;\">\n",
       "      <th></th>\n",
       "      <th>0</th>\n",
       "      <th>1</th>\n",
       "      <th>2</th>\n",
       "      <th>3</th>\n",
       "      <th>4</th>\n",
       "      <th>5</th>\n",
       "      <th>6</th>\n",
       "      <th>7</th>\n",
       "      <th>8</th>\n",
       "      <th>9</th>\n",
       "      <th>10</th>\n",
       "      <th>11</th>\n",
       "      <th>12</th>\n",
       "      <th>13</th>\n",
       "      <th>14</th>\n",
       "    </tr>\n",
       "  </thead>\n",
       "  <tbody>\n",
       "    <tr>\n",
       "      <th>0</th>\n",
       "      <td>-157</td>\n",
       "      <td>0</td>\n",
       "      <td>10</td>\n",
       "      <td>1</td>\n",
       "      <td>14.4</td>\n",
       "      <td>22</td>\n",
       "      <td>35</td>\n",
       "      <td>2</td>\n",
       "      <td>4</td>\n",
       "      <td>2</td>\n",
       "      <td>40</td>\n",
       "      <td>3</td>\n",
       "      <td>28</td>\n",
       "      <td>34</td>\n",
       "      <td>4</td>\n",
       "    </tr>\n",
       "    <tr>\n",
       "      <th>1</th>\n",
       "      <td>-101</td>\n",
       "      <td>135</td>\n",
       "      <td>49.82</td>\n",
       "      <td>1</td>\n",
       "      <td>0</td>\n",
       "      <td>54.3608</td>\n",
       "      <td>45.2</td>\n",
       "      <td>1</td>\n",
       "      <td>4</td>\n",
       "      <td>0</td>\n",
       "      <td>18</td>\n",
       "      <td>3</td>\n",
       "      <td>29</td>\n",
       "      <td>34</td>\n",
       "      <td>4</td>\n",
       "    </tr>\n",
       "    <tr>\n",
       "      <th>2</th>\n",
       "      <td>138</td>\n",
       "      <td>175</td>\n",
       "      <td>3</td>\n",
       "      <td>1</td>\n",
       "      <td>61.304</td>\n",
       "      <td>52</td>\n",
       "      <td>42</td>\n",
       "      <td>4</td>\n",
       "      <td>4</td>\n",
       "      <td>0</td>\n",
       "      <td>33</td>\n",
       "      <td>3</td>\n",
       "      <td>28</td>\n",
       "      <td>34</td>\n",
       "      <td>4</td>\n",
       "    </tr>\n",
       "    <tr>\n",
       "      <th>3</th>\n",
       "      <td>0</td>\n",
       "      <td>0</td>\n",
       "      <td>23.7521</td>\n",
       "      <td>2</td>\n",
       "      <td>0</td>\n",
       "      <td>19</td>\n",
       "      <td>20</td>\n",
       "      <td>0</td>\n",
       "      <td>0</td>\n",
       "      <td>4</td>\n",
       "      <td>33</td>\n",
       "      <td>1</td>\n",
       "      <td>28</td>\n",
       "      <td>34</td>\n",
       "      <td>4</td>\n",
       "    </tr>\n",
       "    <tr>\n",
       "      <th>4</th>\n",
       "      <td>-145</td>\n",
       "      <td>-11</td>\n",
       "      <td>9</td>\n",
       "      <td>3</td>\n",
       "      <td>0</td>\n",
       "      <td>16</td>\n",
       "      <td>34</td>\n",
       "      <td>2</td>\n",
       "      <td>4</td>\n",
       "      <td>2</td>\n",
       "      <td>9</td>\n",
       "      <td>3</td>\n",
       "      <td>28</td>\n",
       "      <td>34</td>\n",
       "      <td>9</td>\n",
       "    </tr>\n",
       "  </tbody>\n",
       "</table>\n",
       "</div>"
      ],
      "text/plain": [
       "    0    1        2  3       4        5     6  7  8  9   10 11  12  13 14\n",
       "0 -157    0       10  1    14.4       22    35  2  4  2  40  3  28  34  4\n",
       "1 -101  135    49.82  1       0  54.3608  45.2  1  4  0  18  3  29  34  4\n",
       "2  138  175        3  1  61.304       52    42  4  4  0  33  3  28  34  4\n",
       "3    0    0  23.7521  2       0       19    20  0  0  4  33  1  28  34  4\n",
       "4 -145  -11        9  3       0       16    34  2  4  2   9  3  28  34  9"
      ]
     },
     "execution_count": 145,
     "metadata": {},
     "output_type": "execute_result"
    }
   ],
   "source": [
    "tmpdf = pd.DataFrame(X)\n",
    "tmpdf.head()"
   ]
  },
  {
   "cell_type": "code",
   "execution_count": 146,
   "metadata": {},
   "outputs": [
    {
     "name": "stderr",
     "output_type": "stream",
     "text": [
      "C:\\Users\\shaik shoyab\\Anaconda3\\lib\\site-packages\\sklearn\\preprocessing\\_encoders.py:415: FutureWarning: The handling of integer data will change in version 0.22. Currently, the categories are determined based on the range [0, max(values)], while in the future they will be determined based on the unique values.\n",
      "If you want the future behaviour and silence this warning, you can specify \"categories='auto'\".\n",
      "In case you used a LabelEncoder before this OneHotEncoder to convert the categories to integers, then you can now use the OneHotEncoder directly.\n",
      "  warnings.warn(msg, FutureWarning)\n",
      "C:\\Users\\shaik shoyab\\Anaconda3\\lib\\site-packages\\sklearn\\preprocessing\\_encoders.py:451: DeprecationWarning: The 'categorical_features' keyword is deprecated in version 0.20 and will be removed in 0.22. You can use the ColumnTransformer instead.\n",
      "  \"use the ColumnTransformer instead.\", DeprecationWarning)\n"
     ]
    }
   ],
   "source": [
    "onehotencoder=OneHotEncoder(categorical_features=[7,8,9,10,11,12,13,14])\n",
    "X=onehotencoder.fit_transform(X).toarray()"
   ]
  },
  {
   "cell_type": "code",
   "execution_count": 147,
   "metadata": {},
   "outputs": [
    {
     "data": {
      "text/html": [
       "<div>\n",
       "<style scoped>\n",
       "    .dataframe tbody tr th:only-of-type {\n",
       "        vertical-align: middle;\n",
       "    }\n",
       "\n",
       "    .dataframe tbody tr th {\n",
       "        vertical-align: top;\n",
       "    }\n",
       "\n",
       "    .dataframe thead th {\n",
       "        text-align: right;\n",
       "    }\n",
       "</style>\n",
       "<table border=\"1\" class=\"dataframe\">\n",
       "  <thead>\n",
       "    <tr style=\"text-align: right;\">\n",
       "      <th></th>\n",
       "      <th>0</th>\n",
       "      <th>1</th>\n",
       "      <th>2</th>\n",
       "      <th>3</th>\n",
       "      <th>4</th>\n",
       "      <th>5</th>\n",
       "      <th>6</th>\n",
       "      <th>7</th>\n",
       "      <th>8</th>\n",
       "      <th>9</th>\n",
       "      <th>...</th>\n",
       "      <th>210</th>\n",
       "      <th>211</th>\n",
       "      <th>212</th>\n",
       "      <th>213</th>\n",
       "      <th>214</th>\n",
       "      <th>215</th>\n",
       "      <th>216</th>\n",
       "      <th>217</th>\n",
       "      <th>218</th>\n",
       "      <th>219</th>\n",
       "    </tr>\n",
       "  </thead>\n",
       "  <tbody>\n",
       "    <tr>\n",
       "      <th>0</th>\n",
       "      <td>0.0</td>\n",
       "      <td>0.0</td>\n",
       "      <td>1.0</td>\n",
       "      <td>0.0</td>\n",
       "      <td>0.0</td>\n",
       "      <td>0.0</td>\n",
       "      <td>0.0</td>\n",
       "      <td>0.0</td>\n",
       "      <td>0.0</td>\n",
       "      <td>0.0</td>\n",
       "      <td>...</td>\n",
       "      <td>0.0</td>\n",
       "      <td>0.0</td>\n",
       "      <td>0.0</td>\n",
       "      <td>-157.0</td>\n",
       "      <td>0.0</td>\n",
       "      <td>10.000000</td>\n",
       "      <td>1.0</td>\n",
       "      <td>14.400</td>\n",
       "      <td>22.0000</td>\n",
       "      <td>35.0</td>\n",
       "    </tr>\n",
       "    <tr>\n",
       "      <th>1</th>\n",
       "      <td>0.0</td>\n",
       "      <td>1.0</td>\n",
       "      <td>0.0</td>\n",
       "      <td>0.0</td>\n",
       "      <td>0.0</td>\n",
       "      <td>0.0</td>\n",
       "      <td>0.0</td>\n",
       "      <td>0.0</td>\n",
       "      <td>0.0</td>\n",
       "      <td>0.0</td>\n",
       "      <td>...</td>\n",
       "      <td>0.0</td>\n",
       "      <td>0.0</td>\n",
       "      <td>0.0</td>\n",
       "      <td>-101.0</td>\n",
       "      <td>135.0</td>\n",
       "      <td>49.820000</td>\n",
       "      <td>1.0</td>\n",
       "      <td>0.000</td>\n",
       "      <td>54.3608</td>\n",
       "      <td>45.2</td>\n",
       "    </tr>\n",
       "    <tr>\n",
       "      <th>2</th>\n",
       "      <td>0.0</td>\n",
       "      <td>0.0</td>\n",
       "      <td>0.0</td>\n",
       "      <td>0.0</td>\n",
       "      <td>1.0</td>\n",
       "      <td>0.0</td>\n",
       "      <td>0.0</td>\n",
       "      <td>0.0</td>\n",
       "      <td>0.0</td>\n",
       "      <td>0.0</td>\n",
       "      <td>...</td>\n",
       "      <td>0.0</td>\n",
       "      <td>0.0</td>\n",
       "      <td>0.0</td>\n",
       "      <td>138.0</td>\n",
       "      <td>175.0</td>\n",
       "      <td>3.000000</td>\n",
       "      <td>1.0</td>\n",
       "      <td>61.304</td>\n",
       "      <td>52.0000</td>\n",
       "      <td>42.0</td>\n",
       "    </tr>\n",
       "    <tr>\n",
       "      <th>3</th>\n",
       "      <td>1.0</td>\n",
       "      <td>0.0</td>\n",
       "      <td>0.0</td>\n",
       "      <td>0.0</td>\n",
       "      <td>0.0</td>\n",
       "      <td>0.0</td>\n",
       "      <td>1.0</td>\n",
       "      <td>0.0</td>\n",
       "      <td>0.0</td>\n",
       "      <td>0.0</td>\n",
       "      <td>...</td>\n",
       "      <td>0.0</td>\n",
       "      <td>0.0</td>\n",
       "      <td>0.0</td>\n",
       "      <td>0.0</td>\n",
       "      <td>0.0</td>\n",
       "      <td>23.752084</td>\n",
       "      <td>2.0</td>\n",
       "      <td>0.000</td>\n",
       "      <td>19.0000</td>\n",
       "      <td>20.0</td>\n",
       "    </tr>\n",
       "    <tr>\n",
       "      <th>4</th>\n",
       "      <td>0.0</td>\n",
       "      <td>0.0</td>\n",
       "      <td>1.0</td>\n",
       "      <td>0.0</td>\n",
       "      <td>0.0</td>\n",
       "      <td>0.0</td>\n",
       "      <td>0.0</td>\n",
       "      <td>0.0</td>\n",
       "      <td>0.0</td>\n",
       "      <td>0.0</td>\n",
       "      <td>...</td>\n",
       "      <td>0.0</td>\n",
       "      <td>0.0</td>\n",
       "      <td>0.0</td>\n",
       "      <td>-145.0</td>\n",
       "      <td>-11.0</td>\n",
       "      <td>9.000000</td>\n",
       "      <td>3.0</td>\n",
       "      <td>0.000</td>\n",
       "      <td>16.0000</td>\n",
       "      <td>34.0</td>\n",
       "    </tr>\n",
       "  </tbody>\n",
       "</table>\n",
       "<p>5 rows × 220 columns</p>\n",
       "</div>"
      ],
      "text/plain": [
       "   0    1    2    3    4    5    6    7    8    9    ...  210  211  212  \\\n",
       "0  0.0  0.0  1.0  0.0  0.0  0.0  0.0  0.0  0.0  0.0  ...  0.0  0.0  0.0   \n",
       "1  0.0  1.0  0.0  0.0  0.0  0.0  0.0  0.0  0.0  0.0  ...  0.0  0.0  0.0   \n",
       "2  0.0  0.0  0.0  0.0  1.0  0.0  0.0  0.0  0.0  0.0  ...  0.0  0.0  0.0   \n",
       "3  1.0  0.0  0.0  0.0  0.0  0.0  1.0  0.0  0.0  0.0  ...  0.0  0.0  0.0   \n",
       "4  0.0  0.0  1.0  0.0  0.0  0.0  0.0  0.0  0.0  0.0  ...  0.0  0.0  0.0   \n",
       "\n",
       "     213    214        215  216     217      218   219  \n",
       "0 -157.0    0.0  10.000000  1.0  14.400  22.0000  35.0  \n",
       "1 -101.0  135.0  49.820000  1.0   0.000  54.3608  45.2  \n",
       "2  138.0  175.0   3.000000  1.0  61.304  52.0000  42.0  \n",
       "3    0.0    0.0  23.752084  2.0   0.000  19.0000  20.0  \n",
       "4 -145.0  -11.0   9.000000  3.0   0.000  16.0000  34.0  \n",
       "\n",
       "[5 rows x 220 columns]"
      ]
     },
     "execution_count": 147,
     "metadata": {},
     "output_type": "execute_result"
    }
   ],
   "source": [
    "tmpdf = pd.DataFrame(X)\n",
    "tmpdf.head()"
   ]
  },
  {
   "cell_type": "code",
   "execution_count": 148,
   "metadata": {},
   "outputs": [],
   "source": [
    "hahatrain=pd.DataFrame()\n",
    "hahatest = pd.DataFrame()"
   ]
  },
  {
   "cell_type": "code",
   "execution_count": 149,
   "metadata": {},
   "outputs": [],
   "source": [
    "hahatest=X[19604:,:]"
   ]
  },
  {
   "cell_type": "code",
   "execution_count": 150,
   "metadata": {},
   "outputs": [
    {
     "data": {
      "text/plain": [
       "array([[ 1.   ,  0.   ,  0.   , ...,  0.   , 37.   , 20.   ],\n",
       "       [ 0.   ,  0.   ,  1.   , ...,  0.   , 37.   , 32.   ],\n",
       "       [ 1.   ,  0.   ,  0.   , ..., 21.804, 15.   , 20.   ],\n",
       "       ...,\n",
       "       [ 0.   ,  1.   ,  0.   , ...,  1.   , 28.   , 41.   ],\n",
       "       [ 1.   ,  0.   ,  0.   , ...,  1.   , 10.   , 46.   ],\n",
       "       [ 1.   ,  0.   ,  0.   , ...,  1.   , 39.   , 27.   ]])"
      ]
     },
     "execution_count": 150,
     "metadata": {},
     "output_type": "execute_result"
    }
   ],
   "source": [
    "hahatest"
   ]
  },
  {
   "cell_type": "code",
   "execution_count": 151,
   "metadata": {},
   "outputs": [],
   "source": [
    "hahatrain=X[0:19604,:]"
   ]
  },
  {
   "cell_type": "code",
   "execution_count": 152,
   "metadata": {},
   "outputs": [
    {
     "data": {
      "text/plain": [
       "XGBClassifier(base_score=0.5, booster='gbtree', colsample_bylevel=1,\n",
       "              colsample_bynode=1, colsample_bytree=1, gamma=0,\n",
       "              learning_rate=0.1, max_delta_step=0, max_depth=3,\n",
       "              min_child_weight=1, missing=None, n_estimators=100, n_jobs=1,\n",
       "              nthread=None, objective='binary:logistic', random_state=0,\n",
       "              reg_alpha=0, reg_lambda=1, scale_pos_weight=1, seed=None,\n",
       "              silent=None, subsample=1, verbosity=1)"
      ]
     },
     "execution_count": 152,
     "metadata": {},
     "output_type": "execute_result"
    }
   ],
   "source": [
    "from xgboost import XGBClassifier\n",
    "classifier=XGBClassifier()\n",
    "classifier.fit(hahatrain,Y_train)"
   ]
  },
  {
   "cell_type": "code",
   "execution_count": 153,
   "metadata": {},
   "outputs": [],
   "source": [
    "ypred=classifier.predict(hahatest)"
   ]
  },
  {
   "cell_type": "code",
   "execution_count": 154,
   "metadata": {},
   "outputs": [],
   "source": [
    "ans=pd.DataFrame()"
   ]
  },
  {
   "cell_type": "code",
   "execution_count": 155,
   "metadata": {},
   "outputs": [],
   "source": [
    "q = pd.read_csv(\"test.csv\")"
   ]
  },
  {
   "cell_type": "code",
   "execution_count": 156,
   "metadata": {},
   "outputs": [],
   "source": [
    "ans[\"shot_id_number\"] = q[\"shot_id_number\"]"
   ]
  },
  {
   "cell_type": "code",
   "execution_count": 157,
   "metadata": {},
   "outputs": [],
   "source": [
    "ypreddf=pd.DataFrame(ypred)"
   ]
  },
  {
   "cell_type": "code",
   "execution_count": 158,
   "metadata": {},
   "outputs": [],
   "source": [
    "ans[\"is_goal\"]= ypreddf"
   ]
  },
  {
   "cell_type": "code",
   "execution_count": 159,
   "metadata": {},
   "outputs": [],
   "source": [
    "ans.to_csv(\"final_goal_predict.csv\",index=False)"
   ]
  },
  {
   "cell_type": "code",
   "execution_count": null,
   "metadata": {},
   "outputs": [],
   "source": []
  }
 ],
 "metadata": {
  "kernelspec": {
   "display_name": "Python 3",
   "language": "python",
   "name": "python3"
  },
  "language_info": {
   "codemirror_mode": {
    "name": "ipython",
    "version": 3
   },
   "file_extension": ".py",
   "mimetype": "text/x-python",
   "name": "python",
   "nbconvert_exporter": "python",
   "pygments_lexer": "ipython3",
   "version": "3.7.3"
  }
 },
 "nbformat": 4,
 "nbformat_minor": 2
}
